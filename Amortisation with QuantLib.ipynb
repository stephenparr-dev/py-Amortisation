{
 "cells": [
  {
   "cell_type": "markdown",
   "metadata": {},
   "source": [
    "Testing out the functionality within the QuantLib library to see if it will be of use for this amortisation project."
   ]
  },
  {
   "cell_type": "code",
   "execution_count": 1,
   "metadata": {},
   "outputs": [],
   "source": [
    "import QuantLib as ql\n",
    "import pandas as pd"
   ]
  },
  {
   "cell_type": "code",
   "execution_count": 40,
   "metadata": {},
   "outputs": [
    {
     "name": "stdout",
     "output_type": "stream",
     "text": [
      "[Date(15,2,2008), Date(15,5,2008), Date(15,11,2008), Date(15,5,2009), Date(15,11,2009), Date(15,5,2010), Date(15,11,2010), Date(15,5,2011), Date(15,11,2011), Date(15,5,2012), Date(15,11,2012), Date(15,5,2013), Date(15,11,2013), Date(15,5,2014), Date(15,11,2014), Date(15,5,2015), Date(15,11,2015), Date(15,5,2016), Date(15,11,2016)]\n"
     ]
    }
   ],
   "source": [
    "ql.Settings.instance().evaluationDate = ql.Date(15, 2, 2008)\n",
    "effectiveDate = ql.Date(15, 2, 2008)\n",
    "maturityDate = ql.Date(15, 11, 2016)\n",
    "tenor = ql.Period(ql.Semiannual)\n",
    "calendar = ql.UnitedKingdom()\n",
    "businessConvention = ql.Unadjusted\n",
    "dateGeneration = ql.DateGeneration.Backward\n",
    "monthEnd = False\n",
    "schedule = ql.Schedule(effectiveDate, maturityDate, tenor, calendar, businessConvention, businessConvention, dateGeneration, monthEnd)\n",
    "print(list(schedule))"
   ]
  },
  {
   "cell_type": "code",
   "execution_count": 4,
   "metadata": {},
   "outputs": [],
   "source": [
    "# not sure if the above's worked properly, as the settlement date (effectiveDate) is showing as a coupon date, but we'll see.\n",
    "# build the coupon\n",
    "dayCount = ql.Thirty360()\n",
    "couponRate = 0.0575\n",
    "coupons = [couponRate]"
   ]
  },
  {
   "cell_type": "code",
   "execution_count": 32,
   "metadata": {},
   "outputs": [],
   "source": [
    "# construct the Fixed Rate Bond (hopefully)\n",
    "settlementDays = 0\n",
    "faceValue = 100\n",
    "fixedRateBond = ql.FixedRateBond(settlementDays, faceValue, schedule, coupons, dayCount)"
   ]
  },
  {
   "cell_type": "code",
   "execution_count": 33,
   "metadata": {},
   "outputs": [],
   "source": [
    "# add in the clean market price on the effective date\n",
    "cleanPrice = 95.04287\n",
    "# and the compunding method\n",
    "compounding = ql.Compounded\n",
    "# and change the frequency back to being a number instead of a period\n",
    "cpn_freq = ql.Semiannual"
   ]
  },
  {
   "cell_type": "code",
   "execution_count": 34,
   "metadata": {},
   "outputs": [
    {
     "name": "stdout",
     "output_type": "stream",
     "text": [
      "6M 2 2\n",
      "February 15th, 2008\n"
     ]
    }
   ],
   "source": [
    "print(tenor, ql.Semiannual, cpn_freq)\n",
    "print(fixedRateBond.settlementDate())"
   ]
  },
  {
   "cell_type": "code",
   "execution_count": 35,
   "metadata": {},
   "outputs": [
    {
     "name": "stdout",
     "output_type": "stream",
     "text": [
      "6.502942566871642\n"
     ]
    }
   ],
   "source": [
    "bondyield = fixedRateBond.bondYield(cleanPrice, dayCount, compounding, cpn_freq) * 100\n",
    "print(bondyield)"
   ]
  },
  {
   "cell_type": "code",
   "execution_count": 48,
   "metadata": {},
   "outputs": [
    {
     "name": "stdout",
     "output_type": "stream",
     "text": [
      "-0.0029425668716420716\n"
     ]
    }
   ],
   "source": [
    "print(6.5 - bondyield)"
   ]
  },
  {
   "cell_type": "markdown",
   "metadata": {},
   "source": [
    "This is close(-ish) to the actual yield of 6.5%, but as I don't have (and can't seem to find a way to get) the issue date for this bond, I'll have to try this again for one that I *do* have the issue date for."
   ]
  },
  {
   "cell_type": "code",
   "execution_count": 2,
   "metadata": {},
   "outputs": [
    {
     "name": "stdout",
     "output_type": "stream",
     "text": [
      "[Date(27,4,2012), Date(4,7,2012), Date(4,7,2013), Date(4,7,2014), Date(4,7,2015), Date(4,7,2016), Date(4,7,2017), Date(4,7,2018), Date(4,7,2019), Date(4,7,2020), Date(4,7,2021), Date(4,7,2022), Date(4,7,2023), Date(4,7,2024), Date(4,7,2025), Date(4,7,2026), Date(4,7,2027), Date(4,7,2028), Date(4,7,2029), Date(4,7,2030), Date(4,7,2031), Date(4,7,2032), Date(4,7,2033), Date(4,7,2034), Date(4,7,2035), Date(4,7,2036), Date(4,7,2037), Date(4,7,2038), Date(4,7,2039), Date(4,7,2040), Date(4,7,2041), Date(4,7,2042), Date(4,7,2043), Date(4,7,2044)]\n"
     ]
    }
   ],
   "source": [
    "ql.Settings.instance().evaluationDate = ql.Date(19, 12, 2013)\n",
    "issue_date = ql.Date(27, 4, 2012)\n",
    "maturity_date = ql.Date(4, 7, 2044)\n",
    "period = ql.Period(ql.Annual)\n",
    "freq = ql.Annual\n",
    "country_calendar = ql.Germany()\n",
    "bus_convention = ql.Unadjusted\n",
    "date_gen = ql.DateGeneration.Backward\n",
    "month_end = False\n",
    "div_sched = ql.Schedule(issue_date, maturity_date, period, country_calendar, bus_convention, bus_convention, date_gen, month_end)\n",
    "print(list(div_sched))"
   ]
  },
  {
   "cell_type": "code",
   "execution_count": 3,
   "metadata": {},
   "outputs": [],
   "source": [
    "day_count = ql.ActualActual()\n",
    "coupon_rate = 0.025\n",
    "coups = [coupon_rate]"
   ]
  },
  {
   "cell_type": "code",
   "execution_count": 4,
   "metadata": {},
   "outputs": [],
   "source": [
    "settlement_days = 0\n",
    "face_value = 100\n",
    "fix_rate_bd = ql.FixedRateBond(settlement_days, face_value, div_sched, coups, day_count)"
   ]
  },
  {
   "cell_type": "code",
   "execution_count": 5,
   "metadata": {},
   "outputs": [],
   "source": [
    "clean_price = 96.29\n",
    "comp = ql.Compounded"
   ]
  },
  {
   "cell_type": "code",
   "execution_count": 6,
   "metadata": {},
   "outputs": [
    {
     "name": "stdout",
     "output_type": "stream",
     "text": [
      "2.6789230203628547\n"
     ]
    }
   ],
   "source": [
    "bond_yield = fix_rate_bd.bondYield(clean_price, day_count, comp, freq) * 100\n",
    "print(bond_yield)"
   ]
  },
  {
   "cell_type": "markdown",
   "metadata": {},
   "source": [
    "Again, this is *agonisingly* close, but not exactly equal to the known value of 2.679016%\n",
    "Some of the additional features, like business convention, date generation and compounding need to be looked at to see if there's anything that needs adjusting with them."
   ]
  },
  {
   "cell_type": "code",
   "execution_count": 7,
   "metadata": {},
   "outputs": [
    {
     "name": "stdout",
     "output_type": "stream",
     "text": [
      "9.2979637145163e-05\n"
     ]
    }
   ],
   "source": [
    "print(2.679016 - bond_yield)"
   ]
  },
  {
   "cell_type": "code",
   "execution_count": 8,
   "metadata": {},
   "outputs": [
    {
     "name": "stdout",
     "output_type": "stream",
     "text": [
      "[Date(27,4,2012), Date(4,7,2012), Date(4,7,2013), Date(4,7,2014), Date(6,7,2015), Date(4,7,2016), Date(4,7,2017), Date(4,7,2018), Date(4,7,2019), Date(6,7,2020), Date(5,7,2021), Date(4,7,2022), Date(4,7,2023), Date(4,7,2024), Date(4,7,2025), Date(6,7,2026), Date(5,7,2027), Date(4,7,2028), Date(4,7,2029), Date(4,7,2030), Date(4,7,2031), Date(5,7,2032), Date(4,7,2033), Date(4,7,2034), Date(4,7,2035), Date(4,7,2036), Date(6,7,2037), Date(5,7,2038), Date(4,7,2039), Date(4,7,2040), Date(4,7,2041), Date(4,7,2042), Date(6,7,2043), Date(4,7,2044)]\n"
     ]
    }
   ],
   "source": [
    "bus_conv2 = ql.Following\n",
    "div_sched2 = ql.Schedule(issue_date, maturity_date, period, country_calendar, bus_conv2, bus_conv2, date_gen, month_end)\n",
    "print(list(div_sched2))"
   ]
  },
  {
   "cell_type": "code",
   "execution_count": 9,
   "metadata": {},
   "outputs": [
    {
     "name": "stdout",
     "output_type": "stream",
     "text": [
      "2.6790084409713755\n"
     ]
    }
   ],
   "source": [
    "fix_rate_bd2 = ql.FixedRateBond(settlement_days, face_value, div_sched2, coups, day_count)\n",
    "bond_yield2 = fix_rate_bd2.bondYield(clean_price, day_count, comp, freq) * 100\n",
    "print(bond_yield2)"
   ]
  },
  {
   "cell_type": "code",
   "execution_count": 10,
   "metadata": {},
   "outputs": [
    {
     "name": "stdout",
     "output_type": "stream",
     "text": [
      "7.559028624370967e-06\n"
     ]
    }
   ],
   "source": [
    "print(2.679016 - bond_yield2)"
   ]
  },
  {
   "cell_type": "markdown",
   "metadata": {},
   "source": [
    "closer still..."
   ]
  },
  {
   "cell_type": "code",
   "execution_count": 11,
   "metadata": {},
   "outputs": [
    {
     "name": "stdout",
     "output_type": "stream",
     "text": [
      "2.6789633131027233\n"
     ]
    }
   ],
   "source": [
    "sett_days = 2\n",
    "fix_rate_bd3 = ql.FixedRateBond(sett_days, face_value, div_sched, coups, day_count)\n",
    "bond_yield3 = fix_rate_bd3.bondYield(clean_price, day_count, comp, freq) * 100\n",
    "print(bond_yield3)"
   ]
  },
  {
   "cell_type": "code",
   "execution_count": 12,
   "metadata": {},
   "outputs": [
    {
     "name": "stdout",
     "output_type": "stream",
     "text": [
      "5.2686897276554845e-05\n"
     ]
    }
   ],
   "source": [
    "print(2.679016 - bond_yield3)"
   ]
  },
  {
   "cell_type": "markdown",
   "metadata": {},
   "source": [
    "maybe a little further away..."
   ]
  },
  {
   "cell_type": "code",
   "execution_count": 13,
   "metadata": {},
   "outputs": [
    {
     "name": "stdout",
     "output_type": "stream",
     "text": [
      "2.6790487337112436\n"
     ]
    }
   ],
   "source": [
    "fix_rate_bd4 = ql.FixedRateBond(sett_days, face_value, div_sched2, coups, day_count)\n",
    "bond_yield4 = fix_rate_bd4.bondYield(clean_price, day_count, comp, freq) * 100\n",
    "print(bond_yield4)"
   ]
  },
  {
   "cell_type": "code",
   "execution_count": 14,
   "metadata": {},
   "outputs": [
    {
     "name": "stdout",
     "output_type": "stream",
     "text": [
      "-3.2733711243793095e-05\n"
     ]
    }
   ],
   "source": [
    "print(2.679016 - bond_yield4)"
   ]
  },
  {
   "cell_type": "markdown",
   "metadata": {},
   "source": [
    "...and now out on the other side (higher than expected)"
   ]
  },
  {
   "cell_type": "code",
   "execution_count": 15,
   "metadata": {},
   "outputs": [
    {
     "name": "stdout",
     "output_type": "stream",
     "text": [
      "2.679005217552186\n"
     ]
    }
   ],
   "source": [
    "sett_days2 = 3\n",
    "fix_rate_bd5 = ql.FixedRateBond(sett_days2, face_value, div_sched, coups, day_count)\n",
    "bond_yield5 = fix_rate_bd5.bondYield(clean_price, day_count, comp, freq) * 100\n",
    "print(bond_yield5)"
   ]
  },
  {
   "cell_type": "code",
   "execution_count": 16,
   "metadata": {},
   "outputs": [
    {
     "name": "stdout",
     "output_type": "stream",
     "text": [
      "1.078244781371751e-05\n"
     ]
    }
   ],
   "source": [
    "print(2.679016 - bond_yield5)"
   ]
  },
  {
   "cell_type": "markdown",
   "metadata": {},
   "source": [
    "This feels like the closest I've got so far... Ah, not quite - version 2 was closer"
   ]
  },
  {
   "cell_type": "code",
   "execution_count": 17,
   "metadata": {},
   "outputs": [
    {
     "name": "stdout",
     "output_type": "stream",
     "text": [
      "2.679090638160706\n"
     ]
    }
   ],
   "source": [
    "fix_rate_bd6 = ql.FixedRateBond(sett_days2, face_value, div_sched2, coups, day_count)\n",
    "bond_yield6 = fix_rate_bd6.bondYield(clean_price, day_count, comp, freq) * 100\n",
    "print(bond_yield6)"
   ]
  },
  {
   "cell_type": "code",
   "execution_count": 18,
   "metadata": {},
   "outputs": [
    {
     "name": "stdout",
     "output_type": "stream",
     "text": [
      "-7.463816070618634e-05\n"
     ]
    }
   ],
   "source": [
    "print(2.679016 - bond_yield6)"
   ]
  },
  {
   "cell_type": "markdown",
   "metadata": {},
   "source": [
    "and that's just getting worse, not better"
   ]
  },
  {
   "cell_type": "code",
   "execution_count": 19,
   "metadata": {},
   "outputs": [
    {
     "name": "stdout",
     "output_type": "stream",
     "text": [
      "December 19th, 2013\n",
      "December 19th, 2013\n",
      "December 23rd, 2013\n",
      "December 23rd, 2013\n",
      "December 27th, 2013\n",
      "December 27th, 2013\n"
     ]
    }
   ],
   "source": [
    "print(fix_rate_bd.settlementDate())\n",
    "print(fix_rate_bd2.settlementDate())\n",
    "print(fix_rate_bd3.settlementDate())\n",
    "print(fix_rate_bd4.settlementDate())\n",
    "print(fix_rate_bd5.settlementDate())\n",
    "print(fix_rate_bd6.settlementDate())"
   ]
  },
  {
   "cell_type": "markdown",
   "metadata": {},
   "source": [
    "So, only 1 and 2 have the correct settlement date showing (both reflect 0 settlement days). 2 is the closer of them, as it has a business convention of using the following day after a holiday."
   ]
  },
  {
   "cell_type": "code",
   "execution_count": 20,
   "metadata": {},
   "outputs": [
    {
     "name": "stdout",
     "output_type": "stream",
     "text": [
      "2.6785926198959356\n"
     ]
    }
   ],
   "source": [
    "comp7 = ql.Simple\n",
    "bond_yield7 = fix_rate_bd2.bondYield(clean_price, day_count, comp7, freq) * 100\n",
    "print(bond_yield7)"
   ]
  },
  {
   "cell_type": "markdown",
   "metadata": {},
   "source": [
    "Much further away..."
   ]
  },
  {
   "cell_type": "code",
   "execution_count": 21,
   "metadata": {},
   "outputs": [
    {
     "name": "stdout",
     "output_type": "stream",
     "text": [
      "[Date(27,4,2012), Date(4,7,2012), Date(4,7,2013), Date(4,7,2014), Date(4,7,2015), Date(4,7,2016), Date(4,7,2017), Date(4,7,2018), Date(4,7,2019), Date(4,7,2020), Date(4,7,2021), Date(4,7,2022), Date(4,7,2023), Date(4,7,2024), Date(4,7,2025), Date(4,7,2026), Date(4,7,2027), Date(4,7,2028), Date(4,7,2029), Date(4,7,2030), Date(4,7,2031), Date(4,7,2032), Date(4,7,2033), Date(4,7,2034), Date(4,7,2035), Date(4,7,2036), Date(4,7,2037), Date(4,7,2038), Date(4,7,2039), Date(4,7,2040), Date(4,7,2041), Date(4,7,2042), Date(4,7,2043), Date(4,7,2044)]\n"
     ]
    }
   ],
   "source": [
    "country_calendar8 = ql.NullCalendar()\n",
    "div_sched8 = ql.Schedule(issue_date, maturity_date, period, country_calendar8, bus_conv2, bus_conv2, date_gen, month_end)\n",
    "print(list(div_sched8))"
   ]
  },
  {
   "cell_type": "code",
   "execution_count": 22,
   "metadata": {},
   "outputs": [
    {
     "name": "stdout",
     "output_type": "stream",
     "text": [
      "2.6790098341457047\n"
     ]
    }
   ],
   "source": [
    "fix_rate_bd8 = ql.FixedRateBond(settlement_days, face_value, div_sched8, coups, day_count)\n",
    "bond_yield8 = fix_rate_bd8.bondYield(clean_price, day_count, comp, freq) * 100\n",
    "print(bond_yield8)"
   ]
  },
  {
   "cell_type": "code",
   "execution_count": 23,
   "metadata": {},
   "outputs": [
    {
     "name": "stdout",
     "output_type": "stream",
     "text": [
      "6.165854295137052e-06\n"
     ]
    }
   ],
   "source": [
    "print(2.679016 - bond_yield8)"
   ]
  },
  {
   "cell_type": "markdown",
   "metadata": {},
   "source": [
    "The *tiniest* bit closer..."
   ]
  },
  {
   "cell_type": "code",
   "execution_count": 29,
   "metadata": {},
   "outputs": [
    {
     "name": "stdout",
     "output_type": "stream",
     "text": [
      "2.679016499519349\n"
     ]
    }
   ],
   "source": [
    "day_count9 = ql.ActualActual(ql.ActualActual.ISMA)\n",
    "fix_rate_bd9 = ql.FixedRateBond(settlement_days, face_value, div_sched8, coups, day_count9)\n",
    "bond_yield9 = fix_rate_bd9.bondYield(clean_price, day_count9, comp, freq) * 100\n",
    "print(bond_yield9)"
   ]
  },
  {
   "cell_type": "code",
   "execution_count": 30,
   "metadata": {},
   "outputs": [
    {
     "name": "stdout",
     "output_type": "stream",
     "text": [
      "-4.99519348995392e-07\n"
     ]
    }
   ],
   "source": [
    "print(2.679016 - bond_yield9)"
   ]
  },
  {
   "cell_type": "markdown",
   "metadata": {},
   "source": [
    "That is bang on to 6 decimal places. Need to test this for a different date to see if this calculation is more in line with Excel or the old system."
   ]
  },
  {
   "cell_type": "code",
   "execution_count": 31,
   "metadata": {},
   "outputs": [
    {
     "name": "stdout",
     "output_type": "stream",
     "text": [
      "[Date(27,4,2012), Date(4,7,2012), Date(4,7,2013), Date(4,7,2014), Date(6,7,2015), Date(4,7,2016), Date(4,7,2017), Date(4,7,2018), Date(4,7,2019), Date(6,7,2020), Date(5,7,2021), Date(4,7,2022), Date(4,7,2023), Date(4,7,2024), Date(4,7,2025), Date(6,7,2026), Date(5,7,2027), Date(4,7,2028), Date(4,7,2029), Date(4,7,2030), Date(4,7,2031), Date(5,7,2032), Date(4,7,2033), Date(4,7,2034), Date(4,7,2035), Date(4,7,2036), Date(6,7,2037), Date(5,7,2038), Date(4,7,2039), Date(4,7,2040), Date(4,7,2041), Date(4,7,2042), Date(6,7,2043), Date(4,7,2044)]\n"
     ]
    }
   ],
   "source": [
    "ql.Settings.instance().evaluationDate = ql.Date(3, 3, 2015)\n",
    "issue_date_2 = ql.Date(27, 4, 2012)\n",
    "maturity_date_2 = ql.Date(4, 7, 2044)\n",
    "period_2 = ql.Period(ql.Annual)\n",
    "freq_2 = ql.Annual\n",
    "country_calendar_2 = ql.Germany()\n",
    "bus_convention_2 = ql.Following\n",
    "date_gen_2 = ql.DateGeneration.Backward\n",
    "month_end_2 = False\n",
    "div_sched_2 = ql.Schedule(issue_date_2, maturity_date_2, period_2, country_calendar_2, bus_convention_2, bus_convention_2, date_gen_2, month_end_2)\n",
    "print(list(div_sched_2))"
   ]
  },
  {
   "cell_type": "code",
   "execution_count": 38,
   "metadata": {},
   "outputs": [
    {
     "name": "stdout",
     "output_type": "stream",
     "text": [
      "0.9419778282642368\n"
     ]
    }
   ],
   "source": [
    "day_count_2 = ql.ActualActual(ql.ActualActual.ISMA)\n",
    "coupon_rate_2 = 0.025\n",
    "coups_2 = [coupon_rate_2]\n",
    "settlement_days_2 = 0\n",
    "face_value_2 = 100\n",
    "fix_rate_bd_2 = ql.FixedRateBond(settlement_days_2, face_value_2, div_sched_2, coups_2, day_count_2)\n",
    "clean_price_2 = 139.775 # had been left as 96.29...\n",
    "comp_2 = ql.Compounded\n",
    "bond_yield_2 = fix_rate_bd_2.bondYield(clean_price_2, day_count_2, comp_2, freq_2) * 100\n",
    "print(bond_yield_2)"
   ]
  },
  {
   "cell_type": "markdown",
   "metadata": {},
   "source": [
    "...works better when you use the correct price..."
   ]
  },
  {
   "cell_type": "code",
   "execution_count": 34,
   "metadata": {},
   "outputs": [
    {
     "name": "stdout",
     "output_type": "stream",
     "text": [
      "March 3rd, 2015\n"
     ]
    }
   ],
   "source": [
    "print(fix_rate_bd_2.settlementDate())"
   ]
  },
  {
   "cell_type": "code",
   "execution_count": 35,
   "metadata": {},
   "outputs": [
    {
     "name": "stdout",
     "output_type": "stream",
     "text": [
      "[Date(3,3,2015), Date(6,7,2015), Date(4,7,2016), Date(4,7,2017), Date(4,7,2018), Date(4,7,2019), Date(6,7,2020), Date(5,7,2021), Date(4,7,2022), Date(4,7,2023), Date(4,7,2024), Date(4,7,2025), Date(6,7,2026), Date(5,7,2027), Date(4,7,2028), Date(4,7,2029), Date(4,7,2030), Date(4,7,2031), Date(5,7,2032), Date(4,7,2033), Date(4,7,2034), Date(4,7,2035), Date(4,7,2036), Date(6,7,2037), Date(5,7,2038), Date(4,7,2039), Date(4,7,2040), Date(4,7,2041), Date(4,7,2042), Date(6,7,2043), Date(4,7,2044)]\n"
     ]
    }
   ],
   "source": [
    "div_sched_2a = ql.Schedule(ql.Date(3, 3, 2015), maturity_date_2, period_2, country_calendar_2, bus_convention_2, bus_convention_2, date_gen_2, month_end_2)\n",
    "print(list(div_sched_2a))"
   ]
  },
  {
   "cell_type": "code",
   "execution_count": 37,
   "metadata": {},
   "outputs": [
    {
     "name": "stdout",
     "output_type": "stream",
     "text": [
      "0.9422523024082187\n"
     ]
    }
   ],
   "source": [
    "fix_rate_bd_2a = ql.FixedRateBond(settlement_days_2, face_value_2, div_sched_2a, coups_2, day_count_2)\n",
    "bond_yield_2a = fix_rate_bd_2a.bondYield(clean_price_2, day_count_2, comp_2, freq_2) * 100\n",
    "print(bond_yield_2a)"
   ]
  },
  {
   "cell_type": "markdown",
   "metadata": {},
   "source": [
    "further away, so not an issue with the div schedule."
   ]
  },
  {
   "cell_type": "markdown",
   "metadata": {},
   "source": [
    "Try changing the country calendar back to NullCalendar()"
   ]
  },
  {
   "cell_type": "code",
   "execution_count": 39,
   "metadata": {},
   "outputs": [
    {
     "name": "stdout",
     "output_type": "stream",
     "text": [
      "0.9418416388034822\n"
     ]
    }
   ],
   "source": [
    "country_calendar_2b = ql.NullCalendar()\n",
    "div_sched_2b = ql.Schedule(issue_date_2, maturity_date_2, period_2, country_calendar_2b, bus_convention_2, bus_convention_2, date_gen_2, month_end_2)\n",
    "fix_rate_bd_2b = ql.FixedRateBond(settlement_days_2, face_value_2, div_sched_2b, coups_2, day_count_2)\n",
    "bond_yield_2b = fix_rate_bd_2b.bondYield(clean_price_2, day_count_2, comp_2, freq_2) * 100\n",
    "print(bond_yield_2b)"
   ]
  },
  {
   "cell_type": "markdown",
   "metadata": {},
   "source": [
    "Agrees to Excel calculation to 6 decimal places (0.941842)"
   ]
  },
  {
   "cell_type": "code",
   "execution_count": 42,
   "metadata": {},
   "outputs": [
    {
     "name": "stdout",
     "output_type": "stream",
     "text": [
      "139.7750135058054\n"
     ]
    }
   ],
   "source": [
    "calc_price_2b = fix_rate_bd_2b.cleanPrice(bond_yield_2b / 100, day_count_2, comp_2, freq_2)\n",
    "print(calc_price_2b)"
   ]
  },
  {
   "cell_type": "markdown",
   "metadata": {},
   "source": [
    "The Price formula is refreshingly simple, once you have the bond set up in the first place."
   ]
  },
  {
   "cell_type": "markdown",
   "metadata": {},
   "source": [
    "So, set up the bond once then change the evaluation date for each date that you need to perform calculations for. Maybe define a function and call it via a lambda function to populate a pandas dataframe."
   ]
  },
  {
   "cell_type": "markdown",
   "metadata": {},
   "source": [
    "The way forward looks to be: import the data into two dataframes and add all of the extra fields needed by the calculations; iterate through the static dataframe and extract the corresponding data from the trades dataframe to then perform any calculations that may not be easy to achieve in the dataframe format; write the data back into the trades dataframe, potentially using the merge 'SQL-like' function to ensure it is written back in the correct place."
   ]
  },
  {
   "cell_type": "markdown",
   "metadata": {},
   "source": [
    "Whether this will be a scalable approach for larger datasets remains to be seen, but Dask is an alternative to pandas if it comes to it."
   ]
  },
  {
   "cell_type": "markdown",
   "metadata": {},
   "source": [
    "Let's start with just getting the base functionality sorted out, i.e. performing the amortisation recalculations, then we can move on to scaling issues, etc."
   ]
  },
  {
   "cell_type": "code",
   "execution_count": 160,
   "metadata": {},
   "outputs": [],
   "source": [
    "import pandas as pd\n",
    "import numpy as np\n",
    "import QuantLib as ql\n",
    "from numba import jit"
   ]
  },
  {
   "cell_type": "code",
   "execution_count": 29,
   "metadata": {},
   "outputs": [],
   "source": [
    "# import both sheets / tabs at once, using the ExcelFile wrapper\n",
    "with pd.ExcelFile(\".\\Test Data\\Test_data_xlsx.xlsx\") as xlsx:\n",
    "    s_df = pd.read_excel(xlsx, \"Static\")\n",
    "    t_df = pd.read_excel(xlsx, \"Trades\")"
   ]
  },
  {
   "cell_type": "code",
   "execution_count": 30,
   "metadata": {},
   "outputs": [],
   "source": [
    "# add a new column to both dataframes (Fund + Security Code + SEDOL [padded to 7 characters with leading zeroes]) and make it the index\n",
    "s_df[\"ID\"] = s_df[\"Fund\"] + s_df[\"Security Code\"] + s_df[\"SEDOL\"].astype(str).str.zfill(7)\n",
    "t_df[\"ID\"] = t_df[\"Fund\"] + t_df[\"Security Code\"] + t_df[\"SEDOL\"].astype(str).str.zfill(7)"
   ]
  },
  {
   "cell_type": "code",
   "execution_count": 56,
   "metadata": {},
   "outputs": [
    {
     "data": {
      "text/html": [
       "<div>\n",
       "<style scoped>\n",
       "    .dataframe tbody tr th:only-of-type {\n",
       "        vertical-align: middle;\n",
       "    }\n",
       "\n",
       "    .dataframe tbody tr th {\n",
       "        vertical-align: top;\n",
       "    }\n",
       "\n",
       "    .dataframe thead th {\n",
       "        text-align: right;\n",
       "    }\n",
       "</style>\n",
       "<table border=\"1\" class=\"dataframe\">\n",
       "  <thead>\n",
       "    <tr style=\"text-align: right;\">\n",
       "      <th></th>\n",
       "      <th>Fund</th>\n",
       "      <th>Trade Type</th>\n",
       "      <th>Security Code</th>\n",
       "      <th>SEDOL</th>\n",
       "      <th>Contract Date</th>\n",
       "      <th>Settlement Date</th>\n",
       "      <th>Units</th>\n",
       "      <th>Unit Price (Local)</th>\n",
       "      <th>Cost (Local)</th>\n",
       "    </tr>\n",
       "    <tr>\n",
       "      <th>ID</th>\n",
       "      <th></th>\n",
       "      <th></th>\n",
       "      <th></th>\n",
       "      <th></th>\n",
       "      <th></th>\n",
       "      <th></th>\n",
       "      <th></th>\n",
       "      <th></th>\n",
       "      <th></th>\n",
       "    </tr>\n",
       "  </thead>\n",
       "  <tbody>\n",
       "    <tr>\n",
       "      <th>TESTTESTSEC9999999</th>\n",
       "      <td>TEST</td>\n",
       "      <td>PURCHASE</td>\n",
       "      <td>TESTSEC</td>\n",
       "      <td>9999999</td>\n",
       "      <td>2013-12-16</td>\n",
       "      <td>2013-12-19</td>\n",
       "      <td>70000</td>\n",
       "      <td>96.2900</td>\n",
       "      <td>67403.00</td>\n",
       "    </tr>\n",
       "    <tr>\n",
       "      <th>TESTTESTSEC9999999</th>\n",
       "      <td>TEST</td>\n",
       "      <td>SALE</td>\n",
       "      <td>TESTSEC</td>\n",
       "      <td>9999999</td>\n",
       "      <td>2014-02-03</td>\n",
       "      <td>2014-02-06</td>\n",
       "      <td>30000</td>\n",
       "      <td>100.3030</td>\n",
       "      <td>28887.00</td>\n",
       "    </tr>\n",
       "    <tr>\n",
       "      <th>TESTTESTSEC9999999</th>\n",
       "      <td>TEST</td>\n",
       "      <td>PURCHASE</td>\n",
       "      <td>TESTSEC</td>\n",
       "      <td>9999999</td>\n",
       "      <td>2014-11-10</td>\n",
       "      <td>2014-11-12</td>\n",
       "      <td>70000</td>\n",
       "      <td>118.0530</td>\n",
       "      <td>82637.10</td>\n",
       "    </tr>\n",
       "    <tr>\n",
       "      <th>TESTTESTSEC9999999</th>\n",
       "      <td>TEST</td>\n",
       "      <td>SALE</td>\n",
       "      <td>TESTSEC</td>\n",
       "      <td>9999999</td>\n",
       "      <td>2015-01-01</td>\n",
       "      <td>2015-01-01</td>\n",
       "      <td>110000</td>\n",
       "      <td>127.6203</td>\n",
       "      <td>121153.10</td>\n",
       "    </tr>\n",
       "    <tr>\n",
       "      <th>TESTTESTSEC9999999</th>\n",
       "      <td>TEST</td>\n",
       "      <td>PURCHASE</td>\n",
       "      <td>TESTSEC</td>\n",
       "      <td>9999999</td>\n",
       "      <td>2015-01-01</td>\n",
       "      <td>2015-01-01</td>\n",
       "      <td>110000</td>\n",
       "      <td>127.6203</td>\n",
       "      <td>140382.33</td>\n",
       "    </tr>\n",
       "    <tr>\n",
       "      <th>TESTTESTSEC9999999</th>\n",
       "      <td>TEST</td>\n",
       "      <td>PURCHASE</td>\n",
       "      <td>TESTSEC</td>\n",
       "      <td>9999999</td>\n",
       "      <td>2015-02-27</td>\n",
       "      <td>2015-03-03</td>\n",
       "      <td>10000</td>\n",
       "      <td>139.7750</td>\n",
       "      <td>13977.50</td>\n",
       "    </tr>\n",
       "    <tr>\n",
       "      <th>TESTTESTSEC9999999</th>\n",
       "      <td>TEST</td>\n",
       "      <td>PURCHASE</td>\n",
       "      <td>TESTSEC</td>\n",
       "      <td>9999999</td>\n",
       "      <td>2015-07-23</td>\n",
       "      <td>2015-07-27</td>\n",
       "      <td>10000</td>\n",
       "      <td>125.8780</td>\n",
       "      <td>12587.80</td>\n",
       "    </tr>\n",
       "    <tr>\n",
       "      <th>TESTTESTSEC9999999</th>\n",
       "      <td>TEST</td>\n",
       "      <td>SALE</td>\n",
       "      <td>TESTSEC</td>\n",
       "      <td>9999999</td>\n",
       "      <td>2015-12-04</td>\n",
       "      <td>2015-12-08</td>\n",
       "      <td>20000</td>\n",
       "      <td>124.2940</td>\n",
       "      <td>25684.25</td>\n",
       "    </tr>\n",
       "    <tr>\n",
       "      <th>TESTTESTSEC9999999</th>\n",
       "      <td>TEST</td>\n",
       "      <td>SALE</td>\n",
       "      <td>TESTSEC</td>\n",
       "      <td>9999999</td>\n",
       "      <td>2016-02-25</td>\n",
       "      <td>2016-02-29</td>\n",
       "      <td>110000</td>\n",
       "      <td>142.5720</td>\n",
       "      <td>141263.38</td>\n",
       "    </tr>\n",
       "    <tr>\n",
       "      <th>TESTTESTSEC9999999</th>\n",
       "      <td>TEST</td>\n",
       "      <td>PURCHASE</td>\n",
       "      <td>TESTSEC</td>\n",
       "      <td>9999999</td>\n",
       "      <td>2016-03-02</td>\n",
       "      <td>2016-03-04</td>\n",
       "      <td>70000</td>\n",
       "      <td>139.3240</td>\n",
       "      <td>97526.80</td>\n",
       "    </tr>\n",
       "    <tr>\n",
       "      <th>TESTTESTSEC9999999</th>\n",
       "      <td>TEST</td>\n",
       "      <td>PURCHASE</td>\n",
       "      <td>TESTSEC</td>\n",
       "      <td>9999999</td>\n",
       "      <td>2016-04-15</td>\n",
       "      <td>2016-04-19</td>\n",
       "      <td>50000</td>\n",
       "      <td>143.4480</td>\n",
       "      <td>71724.00</td>\n",
       "    </tr>\n",
       "    <tr>\n",
       "      <th>TESTTESTSEC9999999</th>\n",
       "      <td>TEST</td>\n",
       "      <td>SALE</td>\n",
       "      <td>TESTSEC</td>\n",
       "      <td>9999999</td>\n",
       "      <td>2016-10-03</td>\n",
       "      <td>2016-10-05</td>\n",
       "      <td>50000</td>\n",
       "      <td>153.7140</td>\n",
       "      <td>70521.17</td>\n",
       "    </tr>\n",
       "  </tbody>\n",
       "</table>\n",
       "</div>"
      ],
      "text/plain": [
       "                    Fund Trade Type Security Code    SEDOL Contract Date  \\\n",
       "ID                                                                         \n",
       "TESTTESTSEC9999999  TEST   PURCHASE       TESTSEC  9999999    2013-12-16   \n",
       "TESTTESTSEC9999999  TEST       SALE       TESTSEC  9999999    2014-02-03   \n",
       "TESTTESTSEC9999999  TEST   PURCHASE       TESTSEC  9999999    2014-11-10   \n",
       "TESTTESTSEC9999999  TEST       SALE       TESTSEC  9999999    2015-01-01   \n",
       "TESTTESTSEC9999999  TEST   PURCHASE       TESTSEC  9999999    2015-01-01   \n",
       "TESTTESTSEC9999999  TEST   PURCHASE       TESTSEC  9999999    2015-02-27   \n",
       "TESTTESTSEC9999999  TEST   PURCHASE       TESTSEC  9999999    2015-07-23   \n",
       "TESTTESTSEC9999999  TEST       SALE       TESTSEC  9999999    2015-12-04   \n",
       "TESTTESTSEC9999999  TEST       SALE       TESTSEC  9999999    2016-02-25   \n",
       "TESTTESTSEC9999999  TEST   PURCHASE       TESTSEC  9999999    2016-03-02   \n",
       "TESTTESTSEC9999999  TEST   PURCHASE       TESTSEC  9999999    2016-04-15   \n",
       "TESTTESTSEC9999999  TEST       SALE       TESTSEC  9999999    2016-10-03   \n",
       "\n",
       "                   Settlement Date   Units  Unit Price (Local)  Cost (Local)  \n",
       "ID                                                                            \n",
       "TESTTESTSEC9999999      2013-12-19   70000             96.2900      67403.00  \n",
       "TESTTESTSEC9999999      2014-02-06   30000            100.3030      28887.00  \n",
       "TESTTESTSEC9999999      2014-11-12   70000            118.0530      82637.10  \n",
       "TESTTESTSEC9999999      2015-01-01  110000            127.6203     121153.10  \n",
       "TESTTESTSEC9999999      2015-01-01  110000            127.6203     140382.33  \n",
       "TESTTESTSEC9999999      2015-03-03   10000            139.7750      13977.50  \n",
       "TESTTESTSEC9999999      2015-07-27   10000            125.8780      12587.80  \n",
       "TESTTESTSEC9999999      2015-12-08   20000            124.2940      25684.25  \n",
       "TESTTESTSEC9999999      2016-02-29  110000            142.5720     141263.38  \n",
       "TESTTESTSEC9999999      2016-03-04   70000            139.3240      97526.80  \n",
       "TESTTESTSEC9999999      2016-04-19   50000            143.4480      71724.00  \n",
       "TESTTESTSEC9999999      2016-10-05   50000            153.7140      70521.17  "
      ]
     },
     "execution_count": 56,
     "metadata": {},
     "output_type": "execute_result"
    }
   ],
   "source": [
    "t_df"
   ]
  },
  {
   "cell_type": "code",
   "execution_count": 31,
   "metadata": {},
   "outputs": [],
   "source": [
    "# set the 'ID' column as the index on both dataframes\n",
    "s_df.set_index(\"ID\", inplace=True)\n",
    "t_df.set_index(\"ID\", inplace=True)"
   ]
  },
  {
   "cell_type": "code",
   "execution_count": 34,
   "metadata": {},
   "outputs": [
    {
     "data": {
      "text/html": [
       "<div>\n",
       "<style scoped>\n",
       "    .dataframe tbody tr th:only-of-type {\n",
       "        vertical-align: middle;\n",
       "    }\n",
       "\n",
       "    .dataframe tbody tr th {\n",
       "        vertical-align: top;\n",
       "    }\n",
       "\n",
       "    .dataframe thead th {\n",
       "        text-align: right;\n",
       "    }\n",
       "</style>\n",
       "<table border=\"1\" class=\"dataframe\">\n",
       "  <thead>\n",
       "    <tr style=\"text-align: right;\">\n",
       "      <th></th>\n",
       "      <th>Security Code</th>\n",
       "      <th>SEDOL</th>\n",
       "      <th>Fund</th>\n",
       "      <th>Issue Date</th>\n",
       "      <th>Maturity Date</th>\n",
       "      <th>PAR Value</th>\n",
       "      <th>Coupon Rate</th>\n",
       "      <th>Frequency</th>\n",
       "      <th>Accrual Method</th>\n",
       "      <th>Days in Month</th>\n",
       "      <th>Days in Year</th>\n",
       "      <th>Bond Type</th>\n",
       "      <th>Calendar Used</th>\n",
       "    </tr>\n",
       "    <tr>\n",
       "      <th>ID</th>\n",
       "      <th></th>\n",
       "      <th></th>\n",
       "      <th></th>\n",
       "      <th></th>\n",
       "      <th></th>\n",
       "      <th></th>\n",
       "      <th></th>\n",
       "      <th></th>\n",
       "      <th></th>\n",
       "      <th></th>\n",
       "      <th></th>\n",
       "      <th></th>\n",
       "      <th></th>\n",
       "    </tr>\n",
       "  </thead>\n",
       "  <tbody>\n",
       "    <tr>\n",
       "      <th>TESTTESTSEC9999999</th>\n",
       "      <td>TESTSEC</td>\n",
       "      <td>9999999</td>\n",
       "      <td>TEST</td>\n",
       "      <td>2012-04-27</td>\n",
       "      <td>2044-07-04</td>\n",
       "      <td>100</td>\n",
       "      <td>0.025</td>\n",
       "      <td>1</td>\n",
       "      <td>1</td>\n",
       "      <td>Actual</td>\n",
       "      <td>Actual</td>\n",
       "      <td>Bullet</td>\n",
       "      <td>NaN</td>\n",
       "    </tr>\n",
       "  </tbody>\n",
       "</table>\n",
       "</div>"
      ],
      "text/plain": [
       "                   Security Code    SEDOL  Fund Issue Date Maturity Date  \\\n",
       "ID                                                                         \n",
       "TESTTESTSEC9999999       TESTSEC  9999999  TEST 2012-04-27    2044-07-04   \n",
       "\n",
       "                    PAR Value  Coupon Rate  Frequency  Accrual Method  \\\n",
       "ID                                                                      \n",
       "TESTTESTSEC9999999        100        0.025          1               1   \n",
       "\n",
       "                   Days in Month Days in Year Bond Type  Calendar Used  \n",
       "ID                                                                      \n",
       "TESTTESTSEC9999999        Actual       Actual    Bullet            NaN  "
      ]
     },
     "execution_count": 34,
     "metadata": {},
     "output_type": "execute_result"
    }
   ],
   "source": [
    "s_df"
   ]
  },
  {
   "cell_type": "code",
   "execution_count": 38,
   "metadata": {},
   "outputs": [
    {
     "data": {
      "text/plain": [
       "Timestamp('2012-04-27 00:00:00')"
      ]
     },
     "execution_count": 38,
     "metadata": {},
     "output_type": "execute_result"
    }
   ],
   "source": [
    "s_df.loc[\"TESTTESTSEC9999999\", \"Issue Date\"]"
   ]
  },
  {
   "cell_type": "code",
   "execution_count": 47,
   "metadata": {},
   "outputs": [
    {
     "ename": "TypeError",
     "evalue": "Wrong number or type of arguments for overloaded function 'new_Date'.\n  Possible C/C++ prototypes are:\n    Date::Date()\n    Date::Date(Day,Month,Year)\n    Date::Date(Day,Month,Year,Hour,Minute,Second,Millisecond,Microsecond)\n    Date::Date(Day,Month,Year,Hour,Minute,Second,Millisecond)\n    Date::Date(Day,Month,Year,Hour,Minute,Second)\n    Date::Date(BigInteger)\n    Date::Date(std::string const &,std::string)\n",
     "output_type": "error",
     "traceback": [
      "\u001b[1;31m---------------------------------------------------------------------------\u001b[0m",
      "\u001b[1;31mTypeError\u001b[0m                                 Traceback (most recent call last)",
      "\u001b[1;32m<ipython-input-47-e0eab1d8d331>\u001b[0m in \u001b[0;36m<module>\u001b[1;34m\u001b[0m\n\u001b[0;32m      1\u001b[0m \u001b[0missue\u001b[0m \u001b[1;33m=\u001b[0m \u001b[0ms_df\u001b[0m\u001b[1;33m.\u001b[0m\u001b[0mloc\u001b[0m\u001b[1;33m[\u001b[0m\u001b[1;34m\"TESTTESTSEC9999999\"\u001b[0m\u001b[1;33m,\u001b[0m \u001b[1;34m\"Issue Date\"\u001b[0m\u001b[1;33m]\u001b[0m\u001b[1;33m.\u001b[0m\u001b[0mdate\u001b[0m\u001b[1;33m(\u001b[0m\u001b[1;33m)\u001b[0m\u001b[1;33m\u001b[0m\u001b[1;33m\u001b[0m\u001b[0m\n\u001b[1;32m----> 2\u001b[1;33m \u001b[0miss\u001b[0m \u001b[1;33m=\u001b[0m \u001b[0mql\u001b[0m\u001b[1;33m.\u001b[0m\u001b[0mDate\u001b[0m\u001b[1;33m(\u001b[0m\u001b[0missue\u001b[0m\u001b[1;33m)\u001b[0m\u001b[1;33m\u001b[0m\u001b[1;33m\u001b[0m\u001b[0m\n\u001b[0m\u001b[0;32m      3\u001b[0m \u001b[0mprint\u001b[0m\u001b[1;33m(\u001b[0m\u001b[0missue\u001b[0m\u001b[1;33m)\u001b[0m\u001b[1;33m\u001b[0m\u001b[1;33m\u001b[0m\u001b[0m\n\u001b[0;32m      4\u001b[0m \u001b[0mprint\u001b[0m\u001b[1;33m(\u001b[0m\u001b[0miss\u001b[0m\u001b[1;33m)\u001b[0m\u001b[1;33m\u001b[0m\u001b[1;33m\u001b[0m\u001b[0m\n",
      "\u001b[1;32m~\\OneDrive\\Documents\\Python\\Amortisation\\VS Code\\virtual\\lib\\site-packages\\QuantLib\\QuantLib.py\u001b[0m in \u001b[0;36m__init__\u001b[1;34m(self, *args)\u001b[0m\n\u001b[0;32m    419\u001b[0m \u001b[1;33m\u001b[0m\u001b[0m\n\u001b[0;32m    420\u001b[0m     \u001b[1;32mdef\u001b[0m \u001b[0m__init__\u001b[0m\u001b[1;33m(\u001b[0m\u001b[0mself\u001b[0m\u001b[1;33m,\u001b[0m \u001b[1;33m*\u001b[0m\u001b[0margs\u001b[0m\u001b[1;33m)\u001b[0m\u001b[1;33m:\u001b[0m\u001b[1;33m\u001b[0m\u001b[1;33m\u001b[0m\u001b[0m\n\u001b[1;32m--> 421\u001b[1;33m         \u001b[0m_QuantLib\u001b[0m\u001b[1;33m.\u001b[0m\u001b[0mDate_swiginit\u001b[0m\u001b[1;33m(\u001b[0m\u001b[0mself\u001b[0m\u001b[1;33m,\u001b[0m \u001b[0m_QuantLib\u001b[0m\u001b[1;33m.\u001b[0m\u001b[0mnew_Date\u001b[0m\u001b[1;33m(\u001b[0m\u001b[1;33m*\u001b[0m\u001b[0margs\u001b[0m\u001b[1;33m)\u001b[0m\u001b[1;33m)\u001b[0m\u001b[1;33m\u001b[0m\u001b[1;33m\u001b[0m\u001b[0m\n\u001b[0m\u001b[0;32m    422\u001b[0m \u001b[1;33m\u001b[0m\u001b[0m\n\u001b[0;32m    423\u001b[0m     \u001b[1;32mdef\u001b[0m \u001b[0mweekdayNumber\u001b[0m\u001b[1;33m(\u001b[0m\u001b[0mself\u001b[0m\u001b[1;33m)\u001b[0m\u001b[1;33m:\u001b[0m\u001b[1;33m\u001b[0m\u001b[1;33m\u001b[0m\u001b[0m\n",
      "\u001b[1;31mTypeError\u001b[0m: Wrong number or type of arguments for overloaded function 'new_Date'.\n  Possible C/C++ prototypes are:\n    Date::Date()\n    Date::Date(Day,Month,Year)\n    Date::Date(Day,Month,Year,Hour,Minute,Second,Millisecond,Microsecond)\n    Date::Date(Day,Month,Year,Hour,Minute,Second,Millisecond)\n    Date::Date(Day,Month,Year,Hour,Minute,Second)\n    Date::Date(BigInteger)\n    Date::Date(std::string const &,std::string)\n"
     ]
    }
   ],
   "source": [
    "issue = s_df.loc[\"TESTTESTSEC9999999\", \"Issue Date\"].date()\n",
    "iss = ql.Date(issue)\n",
    "print(issue)\n",
    "print(iss)"
   ]
  },
  {
   "cell_type": "markdown",
   "metadata": {},
   "source": [
    "Ahhhh... the date formats between the normal Python date and the QuantLib date are inverted. QL takes day, month, year whereas Python shows year-month-day hour:min:sec"
   ]
  },
  {
   "cell_type": "markdown",
   "metadata": {},
   "source": [
    "To convert from one to the other will either need some involved coding, or a little research to see if there's an easy way to achieve this."
   ]
  },
  {
   "cell_type": "code",
   "execution_count": 48,
   "metadata": {},
   "outputs": [
    {
     "name": "stdout",
     "output_type": "stream",
     "text": [
      "2012-04-27\n"
     ]
    }
   ],
   "source": [
    "print(issue)"
   ]
  },
  {
   "cell_type": "code",
   "execution_count": 50,
   "metadata": {},
   "outputs": [
    {
     "name": "stdout",
     "output_type": "stream",
     "text": [
      "April 27th, 2012\n"
     ]
    }
   ],
   "source": [
    "# the datetime date needs to be formatted as a string for the parser to work.\n",
    "iss = ql.DateParser.parseFormatted(str(issue), \"%Y-%m-%d\")\n",
    "print(iss)"
   ]
  },
  {
   "cell_type": "markdown",
   "metadata": {},
   "source": [
    "That *seems* to be the quick way to do it. Feels like the dates would be best converted and added back into the table as new columns so they can be used by QL."
   ]
  },
  {
   "cell_type": "code",
   "execution_count": 52,
   "metadata": {},
   "outputs": [
    {
     "name": "stdout",
     "output_type": "stream",
     "text": [
      "April 27th, 2012\n"
     ]
    }
   ],
   "source": [
    "# or, the following could be used\n",
    "iss_date = ql.Date(issue.day, issue.month, issue.year)\n",
    "print(iss_date)"
   ]
  },
  {
   "cell_type": "markdown",
   "metadata": {},
   "source": [
    "Yep, the second option is the much simpler way to convert the date - although this still needs the initial conversion of the df data into a datetime format. Is there a one-step method?"
   ]
  },
  {
   "cell_type": "code",
   "execution_count": 55,
   "metadata": {},
   "outputs": [
    {
     "name": "stdout",
     "output_type": "stream",
     "text": [
      "April 27th, 2012\n"
     ]
    }
   ],
   "source": [
    "iss_date_ql = ql.DateParser.parseFormatted(str(s_df.loc[\"TESTTESTSEC9999999\", \"Issue Date\"]), \"%Y-%m-%d\")\n",
    "print(iss_date_ql)"
   ]
  },
  {
   "cell_type": "markdown",
   "metadata": {},
   "source": [
    "That's the puppy! Should be simple enough to make into a lambda function for block conversion of the df."
   ]
  },
  {
   "cell_type": "code",
   "execution_count": 57,
   "metadata": {},
   "outputs": [],
   "source": [
    "# add the additional columns required to perform the calculations and populate with a placeholder of None\n",
    "s_df[\"QL Issue Date\"] = None\n",
    "s_df[\"QL Maturity Date\"] = None\n",
    "s_df[\"Tenor\"] = None\n",
    "s_df[\"Day Count\"] = None"
   ]
  },
  {
   "cell_type": "code",
   "execution_count": 59,
   "metadata": {},
   "outputs": [],
   "source": [
    "# now do the same for the trades df - just one column to add for that\n",
    "t_df[\"Evaluation Date\"] = None"
   ]
  },
  {
   "cell_type": "code",
   "execution_count": 63,
   "metadata": {},
   "outputs": [],
   "source": [
    "s_df[\"QL Issue Date\"] = s_df[\"Issue Date\"].apply(lambda x: ql.DateParser.parseFormatted(str(x), \"%Y-%m-%d\"))\n",
    "s_df[\"QL Maturity Date\"] = s_df[\"Maturity Date\"].apply(lambda x: ql.DateParser.parseFormatted(str(x), \"%Y-%m-%d\"))\n",
    "s_df[\"Tenor\"] = s_df[\"Frequency\"].apply(lambda x: ql.Period(x))"
   ]
  },
  {
   "cell_type": "code",
   "execution_count": 66,
   "metadata": {},
   "outputs": [],
   "source": [
    "excel_to_ql_basis = {0: ql.Thirty360(), 1: ql.ActualActual(ql.ActualActual.ISMA), 2: ql.Actual360(), 3: ql.Actual365Fixed(), 4: ql.Thirty360(ql.Thirty360.European)}"
   ]
  },
  {
   "cell_type": "code",
   "execution_count": 67,
   "metadata": {},
   "outputs": [],
   "source": [
    "s_df[\"Day Count\"] = s_df[\"Accrual Method\"].apply(lambda x: excel_to_ql_basis[x])"
   ]
  },
  {
   "cell_type": "code",
   "execution_count": 68,
   "metadata": {},
   "outputs": [
    {
     "data": {
      "text/html": [
       "<div>\n",
       "<style scoped>\n",
       "    .dataframe tbody tr th:only-of-type {\n",
       "        vertical-align: middle;\n",
       "    }\n",
       "\n",
       "    .dataframe tbody tr th {\n",
       "        vertical-align: top;\n",
       "    }\n",
       "\n",
       "    .dataframe thead th {\n",
       "        text-align: right;\n",
       "    }\n",
       "</style>\n",
       "<table border=\"1\" class=\"dataframe\">\n",
       "  <thead>\n",
       "    <tr style=\"text-align: right;\">\n",
       "      <th></th>\n",
       "      <th>Security Code</th>\n",
       "      <th>SEDOL</th>\n",
       "      <th>Fund</th>\n",
       "      <th>Issue Date</th>\n",
       "      <th>Maturity Date</th>\n",
       "      <th>PAR Value</th>\n",
       "      <th>Coupon Rate</th>\n",
       "      <th>Frequency</th>\n",
       "      <th>Accrual Method</th>\n",
       "      <th>Days in Month</th>\n",
       "      <th>Days in Year</th>\n",
       "      <th>Bond Type</th>\n",
       "      <th>Calendar Used</th>\n",
       "      <th>QL Issue Date</th>\n",
       "      <th>QL Maturity Date</th>\n",
       "      <th>Tenor</th>\n",
       "      <th>Day Count</th>\n",
       "    </tr>\n",
       "    <tr>\n",
       "      <th>ID</th>\n",
       "      <th></th>\n",
       "      <th></th>\n",
       "      <th></th>\n",
       "      <th></th>\n",
       "      <th></th>\n",
       "      <th></th>\n",
       "      <th></th>\n",
       "      <th></th>\n",
       "      <th></th>\n",
       "      <th></th>\n",
       "      <th></th>\n",
       "      <th></th>\n",
       "      <th></th>\n",
       "      <th></th>\n",
       "      <th></th>\n",
       "      <th></th>\n",
       "      <th></th>\n",
       "    </tr>\n",
       "  </thead>\n",
       "  <tbody>\n",
       "    <tr>\n",
       "      <th>TESTTESTSEC9999999</th>\n",
       "      <td>TESTSEC</td>\n",
       "      <td>9999999</td>\n",
       "      <td>TEST</td>\n",
       "      <td>2012-04-27</td>\n",
       "      <td>2044-07-04</td>\n",
       "      <td>100</td>\n",
       "      <td>0.025</td>\n",
       "      <td>1</td>\n",
       "      <td>1</td>\n",
       "      <td>Actual</td>\n",
       "      <td>Actual</td>\n",
       "      <td>Bullet</td>\n",
       "      <td>NaN</td>\n",
       "      <td>April 27th, 2012</td>\n",
       "      <td>July 4th, 2044</td>\n",
       "      <td>1Y</td>\n",
       "      <td>Actual/Actual (ISMA) day counter</td>\n",
       "    </tr>\n",
       "  </tbody>\n",
       "</table>\n",
       "</div>"
      ],
      "text/plain": [
       "                   Security Code    SEDOL  Fund Issue Date Maturity Date  \\\n",
       "ID                                                                         \n",
       "TESTTESTSEC9999999       TESTSEC  9999999  TEST 2012-04-27    2044-07-04   \n",
       "\n",
       "                    PAR Value  Coupon Rate  Frequency  Accrual Method  \\\n",
       "ID                                                                      \n",
       "TESTTESTSEC9999999        100        0.025          1               1   \n",
       "\n",
       "                   Days in Month Days in Year Bond Type  Calendar Used  \\\n",
       "ID                                                                       \n",
       "TESTTESTSEC9999999        Actual       Actual    Bullet            NaN   \n",
       "\n",
       "                       QL Issue Date QL Maturity Date Tenor  \\\n",
       "ID                                                            \n",
       "TESTTESTSEC9999999  April 27th, 2012   July 4th, 2044    1Y   \n",
       "\n",
       "                                           Day Count  \n",
       "ID                                                    \n",
       "TESTTESTSEC9999999  Actual/Actual (ISMA) day counter  "
      ]
     },
     "execution_count": 68,
     "metadata": {},
     "output_type": "execute_result"
    }
   ],
   "source": [
    "s_df"
   ]
  },
  {
   "cell_type": "code",
   "execution_count": 75,
   "metadata": {},
   "outputs": [],
   "source": [
    "s_df[\"Calendar Used\"] = s_df[\"Calendar Used\"].apply(lambda x: x if pd.notna(x) else ql.NullCalendar())"
   ]
  },
  {
   "cell_type": "code",
   "execution_count": 76,
   "metadata": {},
   "outputs": [
    {
     "data": {
      "text/html": [
       "<div>\n",
       "<style scoped>\n",
       "    .dataframe tbody tr th:only-of-type {\n",
       "        vertical-align: middle;\n",
       "    }\n",
       "\n",
       "    .dataframe tbody tr th {\n",
       "        vertical-align: top;\n",
       "    }\n",
       "\n",
       "    .dataframe thead th {\n",
       "        text-align: right;\n",
       "    }\n",
       "</style>\n",
       "<table border=\"1\" class=\"dataframe\">\n",
       "  <thead>\n",
       "    <tr style=\"text-align: right;\">\n",
       "      <th></th>\n",
       "      <th>Security Code</th>\n",
       "      <th>SEDOL</th>\n",
       "      <th>Fund</th>\n",
       "      <th>Issue Date</th>\n",
       "      <th>Maturity Date</th>\n",
       "      <th>PAR Value</th>\n",
       "      <th>Coupon Rate</th>\n",
       "      <th>Frequency</th>\n",
       "      <th>Accrual Method</th>\n",
       "      <th>Days in Month</th>\n",
       "      <th>Days in Year</th>\n",
       "      <th>Bond Type</th>\n",
       "      <th>Calendar Used</th>\n",
       "      <th>QL Issue Date</th>\n",
       "      <th>QL Maturity Date</th>\n",
       "      <th>Tenor</th>\n",
       "      <th>Day Count</th>\n",
       "    </tr>\n",
       "    <tr>\n",
       "      <th>ID</th>\n",
       "      <th></th>\n",
       "      <th></th>\n",
       "      <th></th>\n",
       "      <th></th>\n",
       "      <th></th>\n",
       "      <th></th>\n",
       "      <th></th>\n",
       "      <th></th>\n",
       "      <th></th>\n",
       "      <th></th>\n",
       "      <th></th>\n",
       "      <th></th>\n",
       "      <th></th>\n",
       "      <th></th>\n",
       "      <th></th>\n",
       "      <th></th>\n",
       "      <th></th>\n",
       "    </tr>\n",
       "  </thead>\n",
       "  <tbody>\n",
       "    <tr>\n",
       "      <th>TESTTESTSEC9999999</th>\n",
       "      <td>TESTSEC</td>\n",
       "      <td>9999999</td>\n",
       "      <td>TEST</td>\n",
       "      <td>2012-04-27</td>\n",
       "      <td>2044-07-04</td>\n",
       "      <td>100</td>\n",
       "      <td>0.025</td>\n",
       "      <td>1</td>\n",
       "      <td>1</td>\n",
       "      <td>Actual</td>\n",
       "      <td>Actual</td>\n",
       "      <td>Bullet</td>\n",
       "      <td>Null calendar</td>\n",
       "      <td>April 27th, 2012</td>\n",
       "      <td>July 4th, 2044</td>\n",
       "      <td>1Y</td>\n",
       "      <td>Actual/Actual (ISMA) day counter</td>\n",
       "    </tr>\n",
       "  </tbody>\n",
       "</table>\n",
       "</div>"
      ],
      "text/plain": [
       "                   Security Code    SEDOL  Fund Issue Date Maturity Date  \\\n",
       "ID                                                                         \n",
       "TESTTESTSEC9999999       TESTSEC  9999999  TEST 2012-04-27    2044-07-04   \n",
       "\n",
       "                    PAR Value  Coupon Rate  Frequency  Accrual Method  \\\n",
       "ID                                                                      \n",
       "TESTTESTSEC9999999        100        0.025          1               1   \n",
       "\n",
       "                   Days in Month Days in Year Bond Type  Calendar Used  \\\n",
       "ID                                                                       \n",
       "TESTTESTSEC9999999        Actual       Actual    Bullet  Null calendar   \n",
       "\n",
       "                       QL Issue Date QL Maturity Date Tenor  \\\n",
       "ID                                                            \n",
       "TESTTESTSEC9999999  April 27th, 2012   July 4th, 2044    1Y   \n",
       "\n",
       "                                           Day Count  \n",
       "ID                                                    \n",
       "TESTTESTSEC9999999  Actual/Actual (ISMA) day counter  "
      ]
     },
     "execution_count": 76,
     "metadata": {},
     "output_type": "execute_result"
    }
   ],
   "source": [
    "s_df"
   ]
  },
  {
   "cell_type": "markdown",
   "metadata": {},
   "source": [
    "Now that the static data table is set up, I should be able to construct the bond. I just need to find the best way to extract the data from the table. And to set up the default values where applicable."
   ]
  },
  {
   "cell_type": "code",
   "execution_count": 77,
   "metadata": {},
   "outputs": [],
   "source": [
    "# set up the static values used in the calculations\n",
    "bus_conv = ql.Following\n",
    "date_gen = ql.DateGeneration.Backward\n",
    "month_end = False\n",
    "sett_days = 0\n",
    "comp = ql.Compounded"
   ]
  },
  {
   "cell_type": "code",
   "execution_count": 83,
   "metadata": {},
   "outputs": [],
   "source": [
    "# extract data from the dataframe into a pandas Series object\n",
    "bd_data = s_df.loc[\"TESTTESTSEC9999999\", [\"QL Issue Date\", \"QL Maturity Date\", \"Tenor\", \"Frequency\", \"Calendar Used\", \"Day Count\", \"Coupon Rate\", \"PAR Value\"]]"
   ]
  },
  {
   "cell_type": "code",
   "execution_count": 84,
   "metadata": {},
   "outputs": [
    {
     "name": "stdout",
     "output_type": "stream",
     "text": [
      "QL Issue Date                       April 27th, 2012\n",
      "QL Maturity Date                      July 4th, 2044\n",
      "Tenor                                             1Y\n",
      "Frequency                                          1\n",
      "Calendar Used                          Null calendar\n",
      "Day Count           Actual/Actual (ISMA) day counter\n",
      "Coupon Rate                                    0.025\n",
      "PAR Value                                        100\n",
      "Name: TESTTESTSEC9999999, dtype: object\n"
     ]
    }
   ],
   "source": [
    "print(bd_data)"
   ]
  },
  {
   "cell_type": "code",
   "execution_count": 87,
   "metadata": {},
   "outputs": [
    {
     "data": {
      "text/plain": [
       "Period(\"1Y\")"
      ]
     },
     "execution_count": 87,
     "metadata": {},
     "output_type": "execute_result"
    }
   ],
   "source": [
    "pd.Series(bd_data).get(\"Tenor\")"
   ]
  },
  {
   "cell_type": "code",
   "execution_count": 88,
   "metadata": {},
   "outputs": [
    {
     "data": {
      "text/plain": [
       "<QuantLib.QuantLib.ActualActual; proxy of <Swig Object of type 'QuantLib::ActualActual *' at 0x00000260A5FA45A0> >"
      ]
     },
     "execution_count": 88,
     "metadata": {},
     "output_type": "execute_result"
    }
   ],
   "source": [
    "pd.Series(bd_data).get(\"Day Count\")"
   ]
  },
  {
   "cell_type": "code",
   "execution_count": 150,
   "metadata": {},
   "outputs": [],
   "source": [
    "# allocate the data from the Series / dataframe extract to variables to use in the construction of the bond\n",
    "iss_date = pd.Series(bd_data).get(\"QL Issue Date\")\n",
    "mat_date = pd.Series(bd_data).get(\"QL Maturity Date\")\n",
    "tenor = pd.Series(bd_data).get(\"Tenor\")\n",
    "freq = int(pd.Series(bd_data).get(\"Frequency\"))\n",
    "cal = pd.Series(bd_data).get(\"Calendar Used\")\n",
    "day_count = pd.Series(bd_data).get(\"Day Count\")\n",
    "# note that the coupon has to be created as a list\n",
    "coupon = [pd.Series(bd_data).get(\"Coupon Rate\")]\n",
    "# and the face value has to be an integer\n",
    "face_val = int(pd.Series(bd_data).get(\"PAR Value\"))"
   ]
  },
  {
   "cell_type": "code",
   "execution_count": 118,
   "metadata": {},
   "outputs": [
    {
     "name": "stdout",
     "output_type": "stream",
     "text": [
      "[Date(27,4,2012), Date(4,7,2012), Date(4,7,2013), Date(4,7,2014), Date(4,7,2015), Date(4,7,2016), Date(4,7,2017), Date(4,7,2018), Date(4,7,2019), Date(4,7,2020), Date(4,7,2021), Date(4,7,2022), Date(4,7,2023), Date(4,7,2024), Date(4,7,2025), Date(4,7,2026), Date(4,7,2027), Date(4,7,2028), Date(4,7,2029), Date(4,7,2030), Date(4,7,2031), Date(4,7,2032), Date(4,7,2033), Date(4,7,2034), Date(4,7,2035), Date(4,7,2036), Date(4,7,2037), Date(4,7,2038), Date(4,7,2039), Date(4,7,2040), Date(4,7,2041), Date(4,7,2042), Date(4,7,2043), Date(4,7,2044)]\n"
     ]
    }
   ],
   "source": [
    "# create the dividend schedule\n",
    "div_sched = ql.Schedule(iss_date, mat_date, tenor, cal, bus_conv, bus_conv, date_gen, month_end)\n",
    "print(list(div_sched))"
   ]
  },
  {
   "cell_type": "code",
   "execution_count": 130,
   "metadata": {},
   "outputs": [],
   "source": [
    "# construct the bond\n",
    "fix_rate_bd = ql.FixedRateBond(sett_days, face_val, div_sched, coupon, day_count)"
   ]
  },
  {
   "cell_type": "markdown",
   "metadata": {},
   "source": [
    "Other than working out a way to iterate over the dataframe without needing to input the row index each time, this *appears* to be the static data side of it complete - for now"
   ]
  },
  {
   "cell_type": "markdown",
   "metadata": {},
   "source": [
    "next, add the extra columns onto the trade dataframe and see where to go from here."
   ]
  },
  {
   "cell_type": "code",
   "execution_count": 131,
   "metadata": {},
   "outputs": [],
   "source": [
    "# add the additional columns needed for the yield calculation, plus some for the amortisation calculation, and set to a default of None\n",
    "# already added the Evaluation Date when adding the columns to the static data dataframe\n",
    "t_df[\"Redemption Yield\"] = None\n",
    "t_df[\"Adjusted Units\"] = None\n",
    "t_df[\"Current Holding\"] = None\n",
    "t_df[\"Blended Yield\"] = None"
   ]
  },
  {
   "cell_type": "code",
   "execution_count": 133,
   "metadata": {},
   "outputs": [
    {
     "data": {
      "text/html": [
       "<div>\n",
       "<style scoped>\n",
       "    .dataframe tbody tr th:only-of-type {\n",
       "        vertical-align: middle;\n",
       "    }\n",
       "\n",
       "    .dataframe tbody tr th {\n",
       "        vertical-align: top;\n",
       "    }\n",
       "\n",
       "    .dataframe thead th {\n",
       "        text-align: right;\n",
       "    }\n",
       "</style>\n",
       "<table border=\"1\" class=\"dataframe\">\n",
       "  <thead>\n",
       "    <tr style=\"text-align: right;\">\n",
       "      <th></th>\n",
       "      <th>Fund</th>\n",
       "      <th>Trade Type</th>\n",
       "      <th>Security Code</th>\n",
       "      <th>SEDOL</th>\n",
       "      <th>Contract Date</th>\n",
       "      <th>Settlement Date</th>\n",
       "      <th>Units</th>\n",
       "      <th>Unit Price (Local)</th>\n",
       "      <th>Cost (Local)</th>\n",
       "      <th>Evaluation Date</th>\n",
       "      <th>Redemption Yield</th>\n",
       "      <th>Adjusted Units</th>\n",
       "      <th>Current Holding</th>\n",
       "      <th>Blended Yield</th>\n",
       "    </tr>\n",
       "    <tr>\n",
       "      <th>ID</th>\n",
       "      <th></th>\n",
       "      <th></th>\n",
       "      <th></th>\n",
       "      <th></th>\n",
       "      <th></th>\n",
       "      <th></th>\n",
       "      <th></th>\n",
       "      <th></th>\n",
       "      <th></th>\n",
       "      <th></th>\n",
       "      <th></th>\n",
       "      <th></th>\n",
       "      <th></th>\n",
       "      <th></th>\n",
       "    </tr>\n",
       "  </thead>\n",
       "  <tbody>\n",
       "    <tr>\n",
       "      <th>TESTTESTSEC9999999</th>\n",
       "      <td>TEST</td>\n",
       "      <td>PURCHASE</td>\n",
       "      <td>TESTSEC</td>\n",
       "      <td>9999999</td>\n",
       "      <td>2013-12-16</td>\n",
       "      <td>2013-12-19</td>\n",
       "      <td>70000</td>\n",
       "      <td>96.2900</td>\n",
       "      <td>67403.00</td>\n",
       "      <td>None</td>\n",
       "      <td>None</td>\n",
       "      <td>None</td>\n",
       "      <td>None</td>\n",
       "      <td>None</td>\n",
       "    </tr>\n",
       "    <tr>\n",
       "      <th>TESTTESTSEC9999999</th>\n",
       "      <td>TEST</td>\n",
       "      <td>SALE</td>\n",
       "      <td>TESTSEC</td>\n",
       "      <td>9999999</td>\n",
       "      <td>2014-02-03</td>\n",
       "      <td>2014-02-06</td>\n",
       "      <td>30000</td>\n",
       "      <td>100.3030</td>\n",
       "      <td>28887.00</td>\n",
       "      <td>None</td>\n",
       "      <td>None</td>\n",
       "      <td>None</td>\n",
       "      <td>None</td>\n",
       "      <td>None</td>\n",
       "    </tr>\n",
       "    <tr>\n",
       "      <th>TESTTESTSEC9999999</th>\n",
       "      <td>TEST</td>\n",
       "      <td>PURCHASE</td>\n",
       "      <td>TESTSEC</td>\n",
       "      <td>9999999</td>\n",
       "      <td>2014-11-10</td>\n",
       "      <td>2014-11-12</td>\n",
       "      <td>70000</td>\n",
       "      <td>118.0530</td>\n",
       "      <td>82637.10</td>\n",
       "      <td>None</td>\n",
       "      <td>None</td>\n",
       "      <td>None</td>\n",
       "      <td>None</td>\n",
       "      <td>None</td>\n",
       "    </tr>\n",
       "    <tr>\n",
       "      <th>TESTTESTSEC9999999</th>\n",
       "      <td>TEST</td>\n",
       "      <td>SALE</td>\n",
       "      <td>TESTSEC</td>\n",
       "      <td>9999999</td>\n",
       "      <td>2015-01-01</td>\n",
       "      <td>2015-01-01</td>\n",
       "      <td>110000</td>\n",
       "      <td>127.6203</td>\n",
       "      <td>121153.10</td>\n",
       "      <td>None</td>\n",
       "      <td>None</td>\n",
       "      <td>None</td>\n",
       "      <td>None</td>\n",
       "      <td>None</td>\n",
       "    </tr>\n",
       "    <tr>\n",
       "      <th>TESTTESTSEC9999999</th>\n",
       "      <td>TEST</td>\n",
       "      <td>PURCHASE</td>\n",
       "      <td>TESTSEC</td>\n",
       "      <td>9999999</td>\n",
       "      <td>2015-01-01</td>\n",
       "      <td>2015-01-01</td>\n",
       "      <td>110000</td>\n",
       "      <td>127.6203</td>\n",
       "      <td>140382.33</td>\n",
       "      <td>None</td>\n",
       "      <td>None</td>\n",
       "      <td>None</td>\n",
       "      <td>None</td>\n",
       "      <td>None</td>\n",
       "    </tr>\n",
       "    <tr>\n",
       "      <th>TESTTESTSEC9999999</th>\n",
       "      <td>TEST</td>\n",
       "      <td>PURCHASE</td>\n",
       "      <td>TESTSEC</td>\n",
       "      <td>9999999</td>\n",
       "      <td>2015-02-27</td>\n",
       "      <td>2015-03-03</td>\n",
       "      <td>10000</td>\n",
       "      <td>139.7750</td>\n",
       "      <td>13977.50</td>\n",
       "      <td>None</td>\n",
       "      <td>None</td>\n",
       "      <td>None</td>\n",
       "      <td>None</td>\n",
       "      <td>None</td>\n",
       "    </tr>\n",
       "    <tr>\n",
       "      <th>TESTTESTSEC9999999</th>\n",
       "      <td>TEST</td>\n",
       "      <td>PURCHASE</td>\n",
       "      <td>TESTSEC</td>\n",
       "      <td>9999999</td>\n",
       "      <td>2015-07-23</td>\n",
       "      <td>2015-07-27</td>\n",
       "      <td>10000</td>\n",
       "      <td>125.8780</td>\n",
       "      <td>12587.80</td>\n",
       "      <td>None</td>\n",
       "      <td>None</td>\n",
       "      <td>None</td>\n",
       "      <td>None</td>\n",
       "      <td>None</td>\n",
       "    </tr>\n",
       "    <tr>\n",
       "      <th>TESTTESTSEC9999999</th>\n",
       "      <td>TEST</td>\n",
       "      <td>SALE</td>\n",
       "      <td>TESTSEC</td>\n",
       "      <td>9999999</td>\n",
       "      <td>2015-12-04</td>\n",
       "      <td>2015-12-08</td>\n",
       "      <td>20000</td>\n",
       "      <td>124.2940</td>\n",
       "      <td>25684.25</td>\n",
       "      <td>None</td>\n",
       "      <td>None</td>\n",
       "      <td>None</td>\n",
       "      <td>None</td>\n",
       "      <td>None</td>\n",
       "    </tr>\n",
       "    <tr>\n",
       "      <th>TESTTESTSEC9999999</th>\n",
       "      <td>TEST</td>\n",
       "      <td>SALE</td>\n",
       "      <td>TESTSEC</td>\n",
       "      <td>9999999</td>\n",
       "      <td>2016-02-25</td>\n",
       "      <td>2016-02-29</td>\n",
       "      <td>110000</td>\n",
       "      <td>142.5720</td>\n",
       "      <td>141263.38</td>\n",
       "      <td>None</td>\n",
       "      <td>None</td>\n",
       "      <td>None</td>\n",
       "      <td>None</td>\n",
       "      <td>None</td>\n",
       "    </tr>\n",
       "    <tr>\n",
       "      <th>TESTTESTSEC9999999</th>\n",
       "      <td>TEST</td>\n",
       "      <td>PURCHASE</td>\n",
       "      <td>TESTSEC</td>\n",
       "      <td>9999999</td>\n",
       "      <td>2016-03-02</td>\n",
       "      <td>2016-03-04</td>\n",
       "      <td>70000</td>\n",
       "      <td>139.3240</td>\n",
       "      <td>97526.80</td>\n",
       "      <td>None</td>\n",
       "      <td>None</td>\n",
       "      <td>None</td>\n",
       "      <td>None</td>\n",
       "      <td>None</td>\n",
       "    </tr>\n",
       "    <tr>\n",
       "      <th>TESTTESTSEC9999999</th>\n",
       "      <td>TEST</td>\n",
       "      <td>PURCHASE</td>\n",
       "      <td>TESTSEC</td>\n",
       "      <td>9999999</td>\n",
       "      <td>2016-04-15</td>\n",
       "      <td>2016-04-19</td>\n",
       "      <td>50000</td>\n",
       "      <td>143.4480</td>\n",
       "      <td>71724.00</td>\n",
       "      <td>None</td>\n",
       "      <td>None</td>\n",
       "      <td>None</td>\n",
       "      <td>None</td>\n",
       "      <td>None</td>\n",
       "    </tr>\n",
       "    <tr>\n",
       "      <th>TESTTESTSEC9999999</th>\n",
       "      <td>TEST</td>\n",
       "      <td>SALE</td>\n",
       "      <td>TESTSEC</td>\n",
       "      <td>9999999</td>\n",
       "      <td>2016-10-03</td>\n",
       "      <td>2016-10-05</td>\n",
       "      <td>50000</td>\n",
       "      <td>153.7140</td>\n",
       "      <td>70521.17</td>\n",
       "      <td>None</td>\n",
       "      <td>None</td>\n",
       "      <td>None</td>\n",
       "      <td>None</td>\n",
       "      <td>None</td>\n",
       "    </tr>\n",
       "  </tbody>\n",
       "</table>\n",
       "</div>"
      ],
      "text/plain": [
       "                    Fund Trade Type Security Code    SEDOL Contract Date  \\\n",
       "ID                                                                         \n",
       "TESTTESTSEC9999999  TEST   PURCHASE       TESTSEC  9999999    2013-12-16   \n",
       "TESTTESTSEC9999999  TEST       SALE       TESTSEC  9999999    2014-02-03   \n",
       "TESTTESTSEC9999999  TEST   PURCHASE       TESTSEC  9999999    2014-11-10   \n",
       "TESTTESTSEC9999999  TEST       SALE       TESTSEC  9999999    2015-01-01   \n",
       "TESTTESTSEC9999999  TEST   PURCHASE       TESTSEC  9999999    2015-01-01   \n",
       "TESTTESTSEC9999999  TEST   PURCHASE       TESTSEC  9999999    2015-02-27   \n",
       "TESTTESTSEC9999999  TEST   PURCHASE       TESTSEC  9999999    2015-07-23   \n",
       "TESTTESTSEC9999999  TEST       SALE       TESTSEC  9999999    2015-12-04   \n",
       "TESTTESTSEC9999999  TEST       SALE       TESTSEC  9999999    2016-02-25   \n",
       "TESTTESTSEC9999999  TEST   PURCHASE       TESTSEC  9999999    2016-03-02   \n",
       "TESTTESTSEC9999999  TEST   PURCHASE       TESTSEC  9999999    2016-04-15   \n",
       "TESTTESTSEC9999999  TEST       SALE       TESTSEC  9999999    2016-10-03   \n",
       "\n",
       "                   Settlement Date   Units  Unit Price (Local)  Cost (Local)  \\\n",
       "ID                                                                             \n",
       "TESTTESTSEC9999999      2013-12-19   70000             96.2900      67403.00   \n",
       "TESTTESTSEC9999999      2014-02-06   30000            100.3030      28887.00   \n",
       "TESTTESTSEC9999999      2014-11-12   70000            118.0530      82637.10   \n",
       "TESTTESTSEC9999999      2015-01-01  110000            127.6203     121153.10   \n",
       "TESTTESTSEC9999999      2015-01-01  110000            127.6203     140382.33   \n",
       "TESTTESTSEC9999999      2015-03-03   10000            139.7750      13977.50   \n",
       "TESTTESTSEC9999999      2015-07-27   10000            125.8780      12587.80   \n",
       "TESTTESTSEC9999999      2015-12-08   20000            124.2940      25684.25   \n",
       "TESTTESTSEC9999999      2016-02-29  110000            142.5720     141263.38   \n",
       "TESTTESTSEC9999999      2016-03-04   70000            139.3240      97526.80   \n",
       "TESTTESTSEC9999999      2016-04-19   50000            143.4480      71724.00   \n",
       "TESTTESTSEC9999999      2016-10-05   50000            153.7140      70521.17   \n",
       "\n",
       "                   Evaluation Date Redemption Yield Adjusted Units  \\\n",
       "ID                                                                   \n",
       "TESTTESTSEC9999999            None             None           None   \n",
       "TESTTESTSEC9999999            None             None           None   \n",
       "TESTTESTSEC9999999            None             None           None   \n",
       "TESTTESTSEC9999999            None             None           None   \n",
       "TESTTESTSEC9999999            None             None           None   \n",
       "TESTTESTSEC9999999            None             None           None   \n",
       "TESTTESTSEC9999999            None             None           None   \n",
       "TESTTESTSEC9999999            None             None           None   \n",
       "TESTTESTSEC9999999            None             None           None   \n",
       "TESTTESTSEC9999999            None             None           None   \n",
       "TESTTESTSEC9999999            None             None           None   \n",
       "TESTTESTSEC9999999            None             None           None   \n",
       "\n",
       "                   Current Holding Blended Yield  \n",
       "ID                                                \n",
       "TESTTESTSEC9999999            None          None  \n",
       "TESTTESTSEC9999999            None          None  \n",
       "TESTTESTSEC9999999            None          None  \n",
       "TESTTESTSEC9999999            None          None  \n",
       "TESTTESTSEC9999999            None          None  \n",
       "TESTTESTSEC9999999            None          None  \n",
       "TESTTESTSEC9999999            None          None  \n",
       "TESTTESTSEC9999999            None          None  \n",
       "TESTTESTSEC9999999            None          None  \n",
       "TESTTESTSEC9999999            None          None  \n",
       "TESTTESTSEC9999999            None          None  \n",
       "TESTTESTSEC9999999            None          None  "
      ]
     },
     "execution_count": 133,
     "metadata": {},
     "output_type": "execute_result"
    }
   ],
   "source": [
    "t_df"
   ]
  },
  {
   "cell_type": "code",
   "execution_count": 139,
   "metadata": {},
   "outputs": [
    {
     "data": {
      "text/html": [
       "<div>\n",
       "<style scoped>\n",
       "    .dataframe tbody tr th:only-of-type {\n",
       "        vertical-align: middle;\n",
       "    }\n",
       "\n",
       "    .dataframe tbody tr th {\n",
       "        vertical-align: top;\n",
       "    }\n",
       "\n",
       "    .dataframe thead th {\n",
       "        text-align: right;\n",
       "    }\n",
       "</style>\n",
       "<table border=\"1\" class=\"dataframe\">\n",
       "  <thead>\n",
       "    <tr style=\"text-align: right;\">\n",
       "      <th></th>\n",
       "      <th>Fund</th>\n",
       "      <th>Trade Type</th>\n",
       "      <th>Security Code</th>\n",
       "      <th>SEDOL</th>\n",
       "      <th>Contract Date</th>\n",
       "      <th>Settlement Date</th>\n",
       "      <th>Units</th>\n",
       "      <th>Unit Price (Local)</th>\n",
       "      <th>Cost (Local)</th>\n",
       "      <th>Evaluation Date</th>\n",
       "      <th>Redemption Yield</th>\n",
       "      <th>Adjusted Units</th>\n",
       "      <th>Current Holding</th>\n",
       "      <th>Blended Yield</th>\n",
       "    </tr>\n",
       "    <tr>\n",
       "      <th>ID</th>\n",
       "      <th></th>\n",
       "      <th></th>\n",
       "      <th></th>\n",
       "      <th></th>\n",
       "      <th></th>\n",
       "      <th></th>\n",
       "      <th></th>\n",
       "      <th></th>\n",
       "      <th></th>\n",
       "      <th></th>\n",
       "      <th></th>\n",
       "      <th></th>\n",
       "      <th></th>\n",
       "      <th></th>\n",
       "    </tr>\n",
       "  </thead>\n",
       "  <tbody>\n",
       "    <tr>\n",
       "      <th>TESTTESTSEC9999999</th>\n",
       "      <td>TEST</td>\n",
       "      <td>PURCHASE</td>\n",
       "      <td>TESTSEC</td>\n",
       "      <td>9999999</td>\n",
       "      <td>2013-12-16</td>\n",
       "      <td>2013-12-19</td>\n",
       "      <td>70000</td>\n",
       "      <td>96.2900</td>\n",
       "      <td>67403.00</td>\n",
       "      <td>December 19th, 2013</td>\n",
       "      <td>None</td>\n",
       "      <td>70000</td>\n",
       "      <td>70000</td>\n",
       "      <td>None</td>\n",
       "    </tr>\n",
       "    <tr>\n",
       "      <th>TESTTESTSEC9999999</th>\n",
       "      <td>TEST</td>\n",
       "      <td>SALE</td>\n",
       "      <td>TESTSEC</td>\n",
       "      <td>9999999</td>\n",
       "      <td>2014-02-03</td>\n",
       "      <td>2014-02-06</td>\n",
       "      <td>30000</td>\n",
       "      <td>100.3030</td>\n",
       "      <td>28887.00</td>\n",
       "      <td>February 6th, 2014</td>\n",
       "      <td>None</td>\n",
       "      <td>-30000</td>\n",
       "      <td>40000</td>\n",
       "      <td>None</td>\n",
       "    </tr>\n",
       "    <tr>\n",
       "      <th>TESTTESTSEC9999999</th>\n",
       "      <td>TEST</td>\n",
       "      <td>PURCHASE</td>\n",
       "      <td>TESTSEC</td>\n",
       "      <td>9999999</td>\n",
       "      <td>2014-11-10</td>\n",
       "      <td>2014-11-12</td>\n",
       "      <td>70000</td>\n",
       "      <td>118.0530</td>\n",
       "      <td>82637.10</td>\n",
       "      <td>November 12th, 2014</td>\n",
       "      <td>None</td>\n",
       "      <td>70000</td>\n",
       "      <td>110000</td>\n",
       "      <td>None</td>\n",
       "    </tr>\n",
       "    <tr>\n",
       "      <th>TESTTESTSEC9999999</th>\n",
       "      <td>TEST</td>\n",
       "      <td>SALE</td>\n",
       "      <td>TESTSEC</td>\n",
       "      <td>9999999</td>\n",
       "      <td>2015-01-01</td>\n",
       "      <td>2015-01-01</td>\n",
       "      <td>110000</td>\n",
       "      <td>127.6203</td>\n",
       "      <td>121153.10</td>\n",
       "      <td>January 1st, 2015</td>\n",
       "      <td>None</td>\n",
       "      <td>-110000</td>\n",
       "      <td>0</td>\n",
       "      <td>None</td>\n",
       "    </tr>\n",
       "    <tr>\n",
       "      <th>TESTTESTSEC9999999</th>\n",
       "      <td>TEST</td>\n",
       "      <td>PURCHASE</td>\n",
       "      <td>TESTSEC</td>\n",
       "      <td>9999999</td>\n",
       "      <td>2015-01-01</td>\n",
       "      <td>2015-01-01</td>\n",
       "      <td>110000</td>\n",
       "      <td>127.6203</td>\n",
       "      <td>140382.33</td>\n",
       "      <td>January 1st, 2015</td>\n",
       "      <td>None</td>\n",
       "      <td>110000</td>\n",
       "      <td>110000</td>\n",
       "      <td>None</td>\n",
       "    </tr>\n",
       "    <tr>\n",
       "      <th>TESTTESTSEC9999999</th>\n",
       "      <td>TEST</td>\n",
       "      <td>PURCHASE</td>\n",
       "      <td>TESTSEC</td>\n",
       "      <td>9999999</td>\n",
       "      <td>2015-02-27</td>\n",
       "      <td>2015-03-03</td>\n",
       "      <td>10000</td>\n",
       "      <td>139.7750</td>\n",
       "      <td>13977.50</td>\n",
       "      <td>March 3rd, 2015</td>\n",
       "      <td>None</td>\n",
       "      <td>10000</td>\n",
       "      <td>120000</td>\n",
       "      <td>None</td>\n",
       "    </tr>\n",
       "    <tr>\n",
       "      <th>TESTTESTSEC9999999</th>\n",
       "      <td>TEST</td>\n",
       "      <td>PURCHASE</td>\n",
       "      <td>TESTSEC</td>\n",
       "      <td>9999999</td>\n",
       "      <td>2015-07-23</td>\n",
       "      <td>2015-07-27</td>\n",
       "      <td>10000</td>\n",
       "      <td>125.8780</td>\n",
       "      <td>12587.80</td>\n",
       "      <td>July 27th, 2015</td>\n",
       "      <td>None</td>\n",
       "      <td>10000</td>\n",
       "      <td>130000</td>\n",
       "      <td>None</td>\n",
       "    </tr>\n",
       "    <tr>\n",
       "      <th>TESTTESTSEC9999999</th>\n",
       "      <td>TEST</td>\n",
       "      <td>SALE</td>\n",
       "      <td>TESTSEC</td>\n",
       "      <td>9999999</td>\n",
       "      <td>2015-12-04</td>\n",
       "      <td>2015-12-08</td>\n",
       "      <td>20000</td>\n",
       "      <td>124.2940</td>\n",
       "      <td>25684.25</td>\n",
       "      <td>December 8th, 2015</td>\n",
       "      <td>None</td>\n",
       "      <td>-20000</td>\n",
       "      <td>110000</td>\n",
       "      <td>None</td>\n",
       "    </tr>\n",
       "    <tr>\n",
       "      <th>TESTTESTSEC9999999</th>\n",
       "      <td>TEST</td>\n",
       "      <td>SALE</td>\n",
       "      <td>TESTSEC</td>\n",
       "      <td>9999999</td>\n",
       "      <td>2016-02-25</td>\n",
       "      <td>2016-02-29</td>\n",
       "      <td>110000</td>\n",
       "      <td>142.5720</td>\n",
       "      <td>141263.38</td>\n",
       "      <td>February 29th, 2016</td>\n",
       "      <td>None</td>\n",
       "      <td>-110000</td>\n",
       "      <td>0</td>\n",
       "      <td>None</td>\n",
       "    </tr>\n",
       "    <tr>\n",
       "      <th>TESTTESTSEC9999999</th>\n",
       "      <td>TEST</td>\n",
       "      <td>PURCHASE</td>\n",
       "      <td>TESTSEC</td>\n",
       "      <td>9999999</td>\n",
       "      <td>2016-03-02</td>\n",
       "      <td>2016-03-04</td>\n",
       "      <td>70000</td>\n",
       "      <td>139.3240</td>\n",
       "      <td>97526.80</td>\n",
       "      <td>March 4th, 2016</td>\n",
       "      <td>None</td>\n",
       "      <td>70000</td>\n",
       "      <td>70000</td>\n",
       "      <td>None</td>\n",
       "    </tr>\n",
       "    <tr>\n",
       "      <th>TESTTESTSEC9999999</th>\n",
       "      <td>TEST</td>\n",
       "      <td>PURCHASE</td>\n",
       "      <td>TESTSEC</td>\n",
       "      <td>9999999</td>\n",
       "      <td>2016-04-15</td>\n",
       "      <td>2016-04-19</td>\n",
       "      <td>50000</td>\n",
       "      <td>143.4480</td>\n",
       "      <td>71724.00</td>\n",
       "      <td>April 19th, 2016</td>\n",
       "      <td>None</td>\n",
       "      <td>50000</td>\n",
       "      <td>120000</td>\n",
       "      <td>None</td>\n",
       "    </tr>\n",
       "    <tr>\n",
       "      <th>TESTTESTSEC9999999</th>\n",
       "      <td>TEST</td>\n",
       "      <td>SALE</td>\n",
       "      <td>TESTSEC</td>\n",
       "      <td>9999999</td>\n",
       "      <td>2016-10-03</td>\n",
       "      <td>2016-10-05</td>\n",
       "      <td>50000</td>\n",
       "      <td>153.7140</td>\n",
       "      <td>70521.17</td>\n",
       "      <td>October 5th, 2016</td>\n",
       "      <td>None</td>\n",
       "      <td>-50000</td>\n",
       "      <td>70000</td>\n",
       "      <td>None</td>\n",
       "    </tr>\n",
       "  </tbody>\n",
       "</table>\n",
       "</div>"
      ],
      "text/plain": [
       "                    Fund Trade Type Security Code    SEDOL Contract Date  \\\n",
       "ID                                                                         \n",
       "TESTTESTSEC9999999  TEST   PURCHASE       TESTSEC  9999999    2013-12-16   \n",
       "TESTTESTSEC9999999  TEST       SALE       TESTSEC  9999999    2014-02-03   \n",
       "TESTTESTSEC9999999  TEST   PURCHASE       TESTSEC  9999999    2014-11-10   \n",
       "TESTTESTSEC9999999  TEST       SALE       TESTSEC  9999999    2015-01-01   \n",
       "TESTTESTSEC9999999  TEST   PURCHASE       TESTSEC  9999999    2015-01-01   \n",
       "TESTTESTSEC9999999  TEST   PURCHASE       TESTSEC  9999999    2015-02-27   \n",
       "TESTTESTSEC9999999  TEST   PURCHASE       TESTSEC  9999999    2015-07-23   \n",
       "TESTTESTSEC9999999  TEST       SALE       TESTSEC  9999999    2015-12-04   \n",
       "TESTTESTSEC9999999  TEST       SALE       TESTSEC  9999999    2016-02-25   \n",
       "TESTTESTSEC9999999  TEST   PURCHASE       TESTSEC  9999999    2016-03-02   \n",
       "TESTTESTSEC9999999  TEST   PURCHASE       TESTSEC  9999999    2016-04-15   \n",
       "TESTTESTSEC9999999  TEST       SALE       TESTSEC  9999999    2016-10-03   \n",
       "\n",
       "                   Settlement Date   Units  Unit Price (Local)  Cost (Local)  \\\n",
       "ID                                                                             \n",
       "TESTTESTSEC9999999      2013-12-19   70000             96.2900      67403.00   \n",
       "TESTTESTSEC9999999      2014-02-06   30000            100.3030      28887.00   \n",
       "TESTTESTSEC9999999      2014-11-12   70000            118.0530      82637.10   \n",
       "TESTTESTSEC9999999      2015-01-01  110000            127.6203     121153.10   \n",
       "TESTTESTSEC9999999      2015-01-01  110000            127.6203     140382.33   \n",
       "TESTTESTSEC9999999      2015-03-03   10000            139.7750      13977.50   \n",
       "TESTTESTSEC9999999      2015-07-27   10000            125.8780      12587.80   \n",
       "TESTTESTSEC9999999      2015-12-08   20000            124.2940      25684.25   \n",
       "TESTTESTSEC9999999      2016-02-29  110000            142.5720     141263.38   \n",
       "TESTTESTSEC9999999      2016-03-04   70000            139.3240      97526.80   \n",
       "TESTTESTSEC9999999      2016-04-19   50000            143.4480      71724.00   \n",
       "TESTTESTSEC9999999      2016-10-05   50000            153.7140      70521.17   \n",
       "\n",
       "                        Evaluation Date Redemption Yield  Adjusted Units  \\\n",
       "ID                                                                         \n",
       "TESTTESTSEC9999999  December 19th, 2013             None           70000   \n",
       "TESTTESTSEC9999999   February 6th, 2014             None          -30000   \n",
       "TESTTESTSEC9999999  November 12th, 2014             None           70000   \n",
       "TESTTESTSEC9999999    January 1st, 2015             None         -110000   \n",
       "TESTTESTSEC9999999    January 1st, 2015             None          110000   \n",
       "TESTTESTSEC9999999      March 3rd, 2015             None           10000   \n",
       "TESTTESTSEC9999999      July 27th, 2015             None           10000   \n",
       "TESTTESTSEC9999999   December 8th, 2015             None          -20000   \n",
       "TESTTESTSEC9999999  February 29th, 2016             None         -110000   \n",
       "TESTTESTSEC9999999      March 4th, 2016             None           70000   \n",
       "TESTTESTSEC9999999     April 19th, 2016             None           50000   \n",
       "TESTTESTSEC9999999    October 5th, 2016             None          -50000   \n",
       "\n",
       "                    Current Holding Blended Yield  \n",
       "ID                                                 \n",
       "TESTTESTSEC9999999            70000          None  \n",
       "TESTTESTSEC9999999            40000          None  \n",
       "TESTTESTSEC9999999           110000          None  \n",
       "TESTTESTSEC9999999                0          None  \n",
       "TESTTESTSEC9999999           110000          None  \n",
       "TESTTESTSEC9999999           120000          None  \n",
       "TESTTESTSEC9999999           130000          None  \n",
       "TESTTESTSEC9999999           110000          None  \n",
       "TESTTESTSEC9999999                0          None  \n",
       "TESTTESTSEC9999999            70000          None  \n",
       "TESTTESTSEC9999999           120000          None  \n",
       "TESTTESTSEC9999999            70000          None  "
      ]
     },
     "execution_count": 139,
     "metadata": {},
     "output_type": "execute_result"
    }
   ],
   "source": [
    "# same date reformatting as earlier\n",
    "t_df[\"Evaluation Date\"] = t_df[\"Settlement Date\"].apply(lambda x: ql.DateParser.parseFormatted(str(x), \"%Y-%m-%d\"))\n",
    "# using numPy to implement a conditional based on the Trade Type column\n",
    "t_df[\"Adjusted Units\"] = np.where(t_df[\"Trade Type\"]==\"SALE\", -t_df[\"Units\"], t_df[\"Units\"])\n",
    "# using the pandas cumsum() method to create the running total for the holding\n",
    "t_df[\"Current Holding\"] = t_df[\"Adjusted Units\"].cumsum()\n",
    "t_df"
   ]
  },
  {
   "cell_type": "code",
   "execution_count": 203,
   "metadata": {},
   "outputs": [],
   "source": [
    "# this just leaves the yield and blended yield calculations\n",
    "# taking the yield first...and defining a function for it, as the evaluation date needs to be changed for each calculation\n",
    "def red_yield(eval_date, clean_price):\n",
    "    ql.Settings.instance().evaluationDate = eval_date\n",
    "    ry = fix_rate_bd.bondYield(clean_price, day_count, comp, freq)\n",
    "    return ry\n",
    "\n",
    "# then apply the function where the trade type is a purchase\n",
    "t_df[\"Redemption Yield\"] = np.where(t_df[\"Trade Type\"]==\"PURCHASE\", t_df.apply(lambda x: red_yield(x[\"Evaluation Date\"], x[\"Unit Price (Local)\"]), axis=1), 0)"
   ]
  },
  {
   "cell_type": "code",
   "execution_count": 204,
   "metadata": {},
   "outputs": [
    {
     "data": {
      "text/html": [
       "<div>\n",
       "<style scoped>\n",
       "    .dataframe tbody tr th:only-of-type {\n",
       "        vertical-align: middle;\n",
       "    }\n",
       "\n",
       "    .dataframe tbody tr th {\n",
       "        vertical-align: top;\n",
       "    }\n",
       "\n",
       "    .dataframe thead th {\n",
       "        text-align: right;\n",
       "    }\n",
       "</style>\n",
       "<table border=\"1\" class=\"dataframe\">\n",
       "  <thead>\n",
       "    <tr style=\"text-align: right;\">\n",
       "      <th></th>\n",
       "      <th>Fund</th>\n",
       "      <th>Trade Type</th>\n",
       "      <th>Security Code</th>\n",
       "      <th>SEDOL</th>\n",
       "      <th>Contract Date</th>\n",
       "      <th>Settlement Date</th>\n",
       "      <th>Units</th>\n",
       "      <th>Unit Price (Local)</th>\n",
       "      <th>Cost (Local)</th>\n",
       "      <th>Evaluation Date</th>\n",
       "      <th>Redemption Yield</th>\n",
       "      <th>Adjusted Units</th>\n",
       "      <th>Current Holding</th>\n",
       "      <th>Blended Yield</th>\n",
       "    </tr>\n",
       "    <tr>\n",
       "      <th>ID</th>\n",
       "      <th></th>\n",
       "      <th></th>\n",
       "      <th></th>\n",
       "      <th></th>\n",
       "      <th></th>\n",
       "      <th></th>\n",
       "      <th></th>\n",
       "      <th></th>\n",
       "      <th></th>\n",
       "      <th></th>\n",
       "      <th></th>\n",
       "      <th></th>\n",
       "      <th></th>\n",
       "      <th></th>\n",
       "    </tr>\n",
       "  </thead>\n",
       "  <tbody>\n",
       "    <tr>\n",
       "      <th>TESTTESTSEC9999999</th>\n",
       "      <td>TEST</td>\n",
       "      <td>PURCHASE</td>\n",
       "      <td>TESTSEC</td>\n",
       "      <td>9999999</td>\n",
       "      <td>2013-12-16</td>\n",
       "      <td>2013-12-19</td>\n",
       "      <td>70000</td>\n",
       "      <td>96.2900</td>\n",
       "      <td>67403.00</td>\n",
       "      <td>December 19th, 2013</td>\n",
       "      <td>0.026790</td>\n",
       "      <td>70000</td>\n",
       "      <td>70000</td>\n",
       "      <td>None</td>\n",
       "    </tr>\n",
       "    <tr>\n",
       "      <th>TESTTESTSEC9999999</th>\n",
       "      <td>TEST</td>\n",
       "      <td>SALE</td>\n",
       "      <td>TESTSEC</td>\n",
       "      <td>9999999</td>\n",
       "      <td>2014-02-03</td>\n",
       "      <td>2014-02-06</td>\n",
       "      <td>30000</td>\n",
       "      <td>100.3030</td>\n",
       "      <td>28887.00</td>\n",
       "      <td>February 6th, 2014</td>\n",
       "      <td>0.000000</td>\n",
       "      <td>-30000</td>\n",
       "      <td>40000</td>\n",
       "      <td>None</td>\n",
       "    </tr>\n",
       "    <tr>\n",
       "      <th>TESTTESTSEC9999999</th>\n",
       "      <td>TEST</td>\n",
       "      <td>PURCHASE</td>\n",
       "      <td>TESTSEC</td>\n",
       "      <td>9999999</td>\n",
       "      <td>2014-11-10</td>\n",
       "      <td>2014-11-12</td>\n",
       "      <td>70000</td>\n",
       "      <td>118.0530</td>\n",
       "      <td>82637.10</td>\n",
       "      <td>November 12th, 2014</td>\n",
       "      <td>0.017175</td>\n",
       "      <td>70000</td>\n",
       "      <td>110000</td>\n",
       "      <td>None</td>\n",
       "    </tr>\n",
       "    <tr>\n",
       "      <th>TESTTESTSEC9999999</th>\n",
       "      <td>TEST</td>\n",
       "      <td>SALE</td>\n",
       "      <td>TESTSEC</td>\n",
       "      <td>9999999</td>\n",
       "      <td>2015-01-01</td>\n",
       "      <td>2015-01-01</td>\n",
       "      <td>110000</td>\n",
       "      <td>127.6203</td>\n",
       "      <td>121153.10</td>\n",
       "      <td>January 1st, 2015</td>\n",
       "      <td>0.000000</td>\n",
       "      <td>-110000</td>\n",
       "      <td>0</td>\n",
       "      <td>None</td>\n",
       "    </tr>\n",
       "    <tr>\n",
       "      <th>TESTTESTSEC9999999</th>\n",
       "      <td>TEST</td>\n",
       "      <td>PURCHASE</td>\n",
       "      <td>TESTSEC</td>\n",
       "      <td>9999999</td>\n",
       "      <td>2015-01-01</td>\n",
       "      <td>2015-01-01</td>\n",
       "      <td>110000</td>\n",
       "      <td>127.6203</td>\n",
       "      <td>140382.33</td>\n",
       "      <td>January 1st, 2015</td>\n",
       "      <td>0.013575</td>\n",
       "      <td>110000</td>\n",
       "      <td>110000</td>\n",
       "      <td>None</td>\n",
       "    </tr>\n",
       "    <tr>\n",
       "      <th>TESTTESTSEC9999999</th>\n",
       "      <td>TEST</td>\n",
       "      <td>PURCHASE</td>\n",
       "      <td>TESTSEC</td>\n",
       "      <td>9999999</td>\n",
       "      <td>2015-02-27</td>\n",
       "      <td>2015-03-03</td>\n",
       "      <td>10000</td>\n",
       "      <td>139.7750</td>\n",
       "      <td>13977.50</td>\n",
       "      <td>March 3rd, 2015</td>\n",
       "      <td>0.009418</td>\n",
       "      <td>10000</td>\n",
       "      <td>120000</td>\n",
       "      <td>None</td>\n",
       "    </tr>\n",
       "    <tr>\n",
       "      <th>TESTTESTSEC9999999</th>\n",
       "      <td>TEST</td>\n",
       "      <td>PURCHASE</td>\n",
       "      <td>TESTSEC</td>\n",
       "      <td>9999999</td>\n",
       "      <td>2015-07-23</td>\n",
       "      <td>2015-07-27</td>\n",
       "      <td>10000</td>\n",
       "      <td>125.8780</td>\n",
       "      <td>12587.80</td>\n",
       "      <td>July 27th, 2015</td>\n",
       "      <td>0.014054</td>\n",
       "      <td>10000</td>\n",
       "      <td>130000</td>\n",
       "      <td>None</td>\n",
       "    </tr>\n",
       "    <tr>\n",
       "      <th>TESTTESTSEC9999999</th>\n",
       "      <td>TEST</td>\n",
       "      <td>SALE</td>\n",
       "      <td>TESTSEC</td>\n",
       "      <td>9999999</td>\n",
       "      <td>2015-12-04</td>\n",
       "      <td>2015-12-08</td>\n",
       "      <td>20000</td>\n",
       "      <td>124.2940</td>\n",
       "      <td>25684.25</td>\n",
       "      <td>December 8th, 2015</td>\n",
       "      <td>0.000000</td>\n",
       "      <td>-20000</td>\n",
       "      <td>110000</td>\n",
       "      <td>None</td>\n",
       "    </tr>\n",
       "    <tr>\n",
       "      <th>TESTTESTSEC9999999</th>\n",
       "      <td>TEST</td>\n",
       "      <td>SALE</td>\n",
       "      <td>TESTSEC</td>\n",
       "      <td>9999999</td>\n",
       "      <td>2016-02-25</td>\n",
       "      <td>2016-02-29</td>\n",
       "      <td>110000</td>\n",
       "      <td>142.5720</td>\n",
       "      <td>141263.38</td>\n",
       "      <td>February 29th, 2016</td>\n",
       "      <td>0.000000</td>\n",
       "      <td>-110000</td>\n",
       "      <td>0</td>\n",
       "      <td>None</td>\n",
       "    </tr>\n",
       "    <tr>\n",
       "      <th>TESTTESTSEC9999999</th>\n",
       "      <td>TEST</td>\n",
       "      <td>PURCHASE</td>\n",
       "      <td>TESTSEC</td>\n",
       "      <td>9999999</td>\n",
       "      <td>2016-03-02</td>\n",
       "      <td>2016-03-04</td>\n",
       "      <td>70000</td>\n",
       "      <td>139.3240</td>\n",
       "      <td>97526.80</td>\n",
       "      <td>March 4th, 2016</td>\n",
       "      <td>0.009175</td>\n",
       "      <td>70000</td>\n",
       "      <td>70000</td>\n",
       "      <td>None</td>\n",
       "    </tr>\n",
       "    <tr>\n",
       "      <th>TESTTESTSEC9999999</th>\n",
       "      <td>TEST</td>\n",
       "      <td>PURCHASE</td>\n",
       "      <td>TESTSEC</td>\n",
       "      <td>9999999</td>\n",
       "      <td>2016-04-15</td>\n",
       "      <td>2016-04-19</td>\n",
       "      <td>50000</td>\n",
       "      <td>143.4480</td>\n",
       "      <td>71724.00</td>\n",
       "      <td>April 19th, 2016</td>\n",
       "      <td>0.007784</td>\n",
       "      <td>50000</td>\n",
       "      <td>120000</td>\n",
       "      <td>None</td>\n",
       "    </tr>\n",
       "    <tr>\n",
       "      <th>TESTTESTSEC9999999</th>\n",
       "      <td>TEST</td>\n",
       "      <td>SALE</td>\n",
       "      <td>TESTSEC</td>\n",
       "      <td>9999999</td>\n",
       "      <td>2016-10-03</td>\n",
       "      <td>2016-10-05</td>\n",
       "      <td>50000</td>\n",
       "      <td>153.7140</td>\n",
       "      <td>70521.17</td>\n",
       "      <td>October 5th, 2016</td>\n",
       "      <td>0.000000</td>\n",
       "      <td>-50000</td>\n",
       "      <td>70000</td>\n",
       "      <td>None</td>\n",
       "    </tr>\n",
       "  </tbody>\n",
       "</table>\n",
       "</div>"
      ],
      "text/plain": [
       "                    Fund Trade Type Security Code    SEDOL Contract Date  \\\n",
       "ID                                                                         \n",
       "TESTTESTSEC9999999  TEST   PURCHASE       TESTSEC  9999999    2013-12-16   \n",
       "TESTTESTSEC9999999  TEST       SALE       TESTSEC  9999999    2014-02-03   \n",
       "TESTTESTSEC9999999  TEST   PURCHASE       TESTSEC  9999999    2014-11-10   \n",
       "TESTTESTSEC9999999  TEST       SALE       TESTSEC  9999999    2015-01-01   \n",
       "TESTTESTSEC9999999  TEST   PURCHASE       TESTSEC  9999999    2015-01-01   \n",
       "TESTTESTSEC9999999  TEST   PURCHASE       TESTSEC  9999999    2015-02-27   \n",
       "TESTTESTSEC9999999  TEST   PURCHASE       TESTSEC  9999999    2015-07-23   \n",
       "TESTTESTSEC9999999  TEST       SALE       TESTSEC  9999999    2015-12-04   \n",
       "TESTTESTSEC9999999  TEST       SALE       TESTSEC  9999999    2016-02-25   \n",
       "TESTTESTSEC9999999  TEST   PURCHASE       TESTSEC  9999999    2016-03-02   \n",
       "TESTTESTSEC9999999  TEST   PURCHASE       TESTSEC  9999999    2016-04-15   \n",
       "TESTTESTSEC9999999  TEST       SALE       TESTSEC  9999999    2016-10-03   \n",
       "\n",
       "                   Settlement Date   Units  Unit Price (Local)  Cost (Local)  \\\n",
       "ID                                                                             \n",
       "TESTTESTSEC9999999      2013-12-19   70000             96.2900      67403.00   \n",
       "TESTTESTSEC9999999      2014-02-06   30000            100.3030      28887.00   \n",
       "TESTTESTSEC9999999      2014-11-12   70000            118.0530      82637.10   \n",
       "TESTTESTSEC9999999      2015-01-01  110000            127.6203     121153.10   \n",
       "TESTTESTSEC9999999      2015-01-01  110000            127.6203     140382.33   \n",
       "TESTTESTSEC9999999      2015-03-03   10000            139.7750      13977.50   \n",
       "TESTTESTSEC9999999      2015-07-27   10000            125.8780      12587.80   \n",
       "TESTTESTSEC9999999      2015-12-08   20000            124.2940      25684.25   \n",
       "TESTTESTSEC9999999      2016-02-29  110000            142.5720     141263.38   \n",
       "TESTTESTSEC9999999      2016-03-04   70000            139.3240      97526.80   \n",
       "TESTTESTSEC9999999      2016-04-19   50000            143.4480      71724.00   \n",
       "TESTTESTSEC9999999      2016-10-05   50000            153.7140      70521.17   \n",
       "\n",
       "                        Evaluation Date  Redemption Yield  Adjusted Units  \\\n",
       "ID                                                                          \n",
       "TESTTESTSEC9999999  December 19th, 2013          0.026790           70000   \n",
       "TESTTESTSEC9999999   February 6th, 2014          0.000000          -30000   \n",
       "TESTTESTSEC9999999  November 12th, 2014          0.017175           70000   \n",
       "TESTTESTSEC9999999    January 1st, 2015          0.000000         -110000   \n",
       "TESTTESTSEC9999999    January 1st, 2015          0.013575          110000   \n",
       "TESTTESTSEC9999999      March 3rd, 2015          0.009418           10000   \n",
       "TESTTESTSEC9999999      July 27th, 2015          0.014054           10000   \n",
       "TESTTESTSEC9999999   December 8th, 2015          0.000000          -20000   \n",
       "TESTTESTSEC9999999  February 29th, 2016          0.000000         -110000   \n",
       "TESTTESTSEC9999999      March 4th, 2016          0.009175           70000   \n",
       "TESTTESTSEC9999999     April 19th, 2016          0.007784           50000   \n",
       "TESTTESTSEC9999999    October 5th, 2016          0.000000          -50000   \n",
       "\n",
       "                    Current Holding Blended Yield  \n",
       "ID                                                 \n",
       "TESTTESTSEC9999999            70000          None  \n",
       "TESTTESTSEC9999999            40000          None  \n",
       "TESTTESTSEC9999999           110000          None  \n",
       "TESTTESTSEC9999999                0          None  \n",
       "TESTTESTSEC9999999           110000          None  \n",
       "TESTTESTSEC9999999           120000          None  \n",
       "TESTTESTSEC9999999           130000          None  \n",
       "TESTTESTSEC9999999           110000          None  \n",
       "TESTTESTSEC9999999                0          None  \n",
       "TESTTESTSEC9999999            70000          None  \n",
       "TESTTESTSEC9999999           120000          None  \n",
       "TESTTESTSEC9999999            70000          None  "
      ]
     },
     "execution_count": 204,
     "metadata": {},
     "output_type": "execute_result"
    }
   ],
   "source": [
    "t_df"
   ]
  },
  {
   "cell_type": "markdown",
   "metadata": {},
   "source": [
    "...and now to work out how to calculate the blended yield..."
   ]
  },
  {
   "cell_type": "code",
   "execution_count": 205,
   "metadata": {},
   "outputs": [
    {
     "name": "stdout",
     "output_type": "stream",
     "text": [
      "0.013228341869910563\n"
     ]
    }
   ],
   "source": [
    "# this is the idea behind the weighted average...\n",
    "blend_y = ((t_df.iloc[4,10] * t_df.iloc[4,12]) + (t_df.iloc[5,10] * t_df.iloc[5,6])) / t_df.iloc[5, 12]\n",
    "print(blend_y)"
   ]
  },
  {
   "cell_type": "markdown",
   "metadata": {},
   "source": [
    "...and it agrees to the Excel version. Now to convert the above into a function that can work dynamically."
   ]
  },
  {
   "cell_type": "code",
   "execution_count": 191,
   "metadata": {},
   "outputs": [
    {
     "data": {
      "text/plain": [
       "(12,)"
      ]
     },
     "execution_count": 191,
     "metadata": {},
     "output_type": "execute_result"
    }
   ],
   "source": [
    "t_df[\"Redemption Yield\"].shape"
   ]
  },
  {
   "cell_type": "code",
   "execution_count": 208,
   "metadata": {},
   "outputs": [],
   "source": [
    "#@jit\n",
    "def blend_yield(trade_type, curr_holding, units, redm_yield):\n",
    "    b_yield = np.empty(redm_yield.shape)\n",
    "    b_yield[0] = redm_yield[0] \n",
    "    for i in range(1, b_yield.shape[0]):\n",
    "        if trade_type[i] == \"PURCHASE\" and curr_holding[i] - units[i] == 0:\n",
    "            b_yield[i] = redm_yield[i]\n",
    "            #return b_yield[i]\n",
    "        elif trade_type[i] == \"SALE\":\n",
    "            b_yield[i] = b_yield[i-1]\n",
    "            #return b_yield[i]\n",
    "        else:\n",
    "            b_yield[i] = ((b_yield[i-1] * curr_holding[i-1]) + (redm_yield[i] * units[i])) / curr_holding[i]\n",
    "            #return b_yield[i]\n",
    "    return b_yield\n",
    "\n",
    "t_df[\"Blended Yield\"] = blend_yield(*t_df[[\"Trade Type\", \"Current Holding\", \"Units\", \"Redemption Yield\"]].values.T)"
   ]
  },
  {
   "cell_type": "code",
   "execution_count": 209,
   "metadata": {},
   "outputs": [
    {
     "data": {
      "text/html": [
       "<div>\n",
       "<style scoped>\n",
       "    .dataframe tbody tr th:only-of-type {\n",
       "        vertical-align: middle;\n",
       "    }\n",
       "\n",
       "    .dataframe tbody tr th {\n",
       "        vertical-align: top;\n",
       "    }\n",
       "\n",
       "    .dataframe thead th {\n",
       "        text-align: right;\n",
       "    }\n",
       "</style>\n",
       "<table border=\"1\" class=\"dataframe\">\n",
       "  <thead>\n",
       "    <tr style=\"text-align: right;\">\n",
       "      <th></th>\n",
       "      <th>Fund</th>\n",
       "      <th>Trade Type</th>\n",
       "      <th>Security Code</th>\n",
       "      <th>SEDOL</th>\n",
       "      <th>Contract Date</th>\n",
       "      <th>Settlement Date</th>\n",
       "      <th>Units</th>\n",
       "      <th>Unit Price (Local)</th>\n",
       "      <th>Cost (Local)</th>\n",
       "      <th>Evaluation Date</th>\n",
       "      <th>Redemption Yield</th>\n",
       "      <th>Adjusted Units</th>\n",
       "      <th>Current Holding</th>\n",
       "      <th>Blended Yield</th>\n",
       "    </tr>\n",
       "    <tr>\n",
       "      <th>ID</th>\n",
       "      <th></th>\n",
       "      <th></th>\n",
       "      <th></th>\n",
       "      <th></th>\n",
       "      <th></th>\n",
       "      <th></th>\n",
       "      <th></th>\n",
       "      <th></th>\n",
       "      <th></th>\n",
       "      <th></th>\n",
       "      <th></th>\n",
       "      <th></th>\n",
       "      <th></th>\n",
       "      <th></th>\n",
       "    </tr>\n",
       "  </thead>\n",
       "  <tbody>\n",
       "    <tr>\n",
       "      <th>TESTTESTSEC9999999</th>\n",
       "      <td>TEST</td>\n",
       "      <td>PURCHASE</td>\n",
       "      <td>TESTSEC</td>\n",
       "      <td>9999999</td>\n",
       "      <td>2013-12-16</td>\n",
       "      <td>2013-12-19</td>\n",
       "      <td>70000</td>\n",
       "      <td>96.2900</td>\n",
       "      <td>67403.00</td>\n",
       "      <td>December 19th, 2013</td>\n",
       "      <td>0.026790</td>\n",
       "      <td>70000</td>\n",
       "      <td>70000</td>\n",
       "      <td>0.026790</td>\n",
       "    </tr>\n",
       "    <tr>\n",
       "      <th>TESTTESTSEC9999999</th>\n",
       "      <td>TEST</td>\n",
       "      <td>SALE</td>\n",
       "      <td>TESTSEC</td>\n",
       "      <td>9999999</td>\n",
       "      <td>2014-02-03</td>\n",
       "      <td>2014-02-06</td>\n",
       "      <td>30000</td>\n",
       "      <td>100.3030</td>\n",
       "      <td>28887.00</td>\n",
       "      <td>February 6th, 2014</td>\n",
       "      <td>0.000000</td>\n",
       "      <td>-30000</td>\n",
       "      <td>40000</td>\n",
       "      <td>0.026790</td>\n",
       "    </tr>\n",
       "    <tr>\n",
       "      <th>TESTTESTSEC9999999</th>\n",
       "      <td>TEST</td>\n",
       "      <td>PURCHASE</td>\n",
       "      <td>TESTSEC</td>\n",
       "      <td>9999999</td>\n",
       "      <td>2014-11-10</td>\n",
       "      <td>2014-11-12</td>\n",
       "      <td>70000</td>\n",
       "      <td>118.0530</td>\n",
       "      <td>82637.10</td>\n",
       "      <td>November 12th, 2014</td>\n",
       "      <td>0.017175</td>\n",
       "      <td>70000</td>\n",
       "      <td>110000</td>\n",
       "      <td>0.020671</td>\n",
       "    </tr>\n",
       "    <tr>\n",
       "      <th>TESTTESTSEC9999999</th>\n",
       "      <td>TEST</td>\n",
       "      <td>SALE</td>\n",
       "      <td>TESTSEC</td>\n",
       "      <td>9999999</td>\n",
       "      <td>2015-01-01</td>\n",
       "      <td>2015-01-01</td>\n",
       "      <td>110000</td>\n",
       "      <td>127.6203</td>\n",
       "      <td>121153.10</td>\n",
       "      <td>January 1st, 2015</td>\n",
       "      <td>0.000000</td>\n",
       "      <td>-110000</td>\n",
       "      <td>0</td>\n",
       "      <td>0.020671</td>\n",
       "    </tr>\n",
       "    <tr>\n",
       "      <th>TESTTESTSEC9999999</th>\n",
       "      <td>TEST</td>\n",
       "      <td>PURCHASE</td>\n",
       "      <td>TESTSEC</td>\n",
       "      <td>9999999</td>\n",
       "      <td>2015-01-01</td>\n",
       "      <td>2015-01-01</td>\n",
       "      <td>110000</td>\n",
       "      <td>127.6203</td>\n",
       "      <td>140382.33</td>\n",
       "      <td>January 1st, 2015</td>\n",
       "      <td>0.013575</td>\n",
       "      <td>110000</td>\n",
       "      <td>110000</td>\n",
       "      <td>0.013575</td>\n",
       "    </tr>\n",
       "    <tr>\n",
       "      <th>TESTTESTSEC9999999</th>\n",
       "      <td>TEST</td>\n",
       "      <td>PURCHASE</td>\n",
       "      <td>TESTSEC</td>\n",
       "      <td>9999999</td>\n",
       "      <td>2015-02-27</td>\n",
       "      <td>2015-03-03</td>\n",
       "      <td>10000</td>\n",
       "      <td>139.7750</td>\n",
       "      <td>13977.50</td>\n",
       "      <td>March 3rd, 2015</td>\n",
       "      <td>0.009418</td>\n",
       "      <td>10000</td>\n",
       "      <td>120000</td>\n",
       "      <td>0.013228</td>\n",
       "    </tr>\n",
       "    <tr>\n",
       "      <th>TESTTESTSEC9999999</th>\n",
       "      <td>TEST</td>\n",
       "      <td>PURCHASE</td>\n",
       "      <td>TESTSEC</td>\n",
       "      <td>9999999</td>\n",
       "      <td>2015-07-23</td>\n",
       "      <td>2015-07-27</td>\n",
       "      <td>10000</td>\n",
       "      <td>125.8780</td>\n",
       "      <td>12587.80</td>\n",
       "      <td>July 27th, 2015</td>\n",
       "      <td>0.014054</td>\n",
       "      <td>10000</td>\n",
       "      <td>130000</td>\n",
       "      <td>0.013292</td>\n",
       "    </tr>\n",
       "    <tr>\n",
       "      <th>TESTTESTSEC9999999</th>\n",
       "      <td>TEST</td>\n",
       "      <td>SALE</td>\n",
       "      <td>TESTSEC</td>\n",
       "      <td>9999999</td>\n",
       "      <td>2015-12-04</td>\n",
       "      <td>2015-12-08</td>\n",
       "      <td>20000</td>\n",
       "      <td>124.2940</td>\n",
       "      <td>25684.25</td>\n",
       "      <td>December 8th, 2015</td>\n",
       "      <td>0.000000</td>\n",
       "      <td>-20000</td>\n",
       "      <td>110000</td>\n",
       "      <td>0.013292</td>\n",
       "    </tr>\n",
       "    <tr>\n",
       "      <th>TESTTESTSEC9999999</th>\n",
       "      <td>TEST</td>\n",
       "      <td>SALE</td>\n",
       "      <td>TESTSEC</td>\n",
       "      <td>9999999</td>\n",
       "      <td>2016-02-25</td>\n",
       "      <td>2016-02-29</td>\n",
       "      <td>110000</td>\n",
       "      <td>142.5720</td>\n",
       "      <td>141263.38</td>\n",
       "      <td>February 29th, 2016</td>\n",
       "      <td>0.000000</td>\n",
       "      <td>-110000</td>\n",
       "      <td>0</td>\n",
       "      <td>0.013292</td>\n",
       "    </tr>\n",
       "    <tr>\n",
       "      <th>TESTTESTSEC9999999</th>\n",
       "      <td>TEST</td>\n",
       "      <td>PURCHASE</td>\n",
       "      <td>TESTSEC</td>\n",
       "      <td>9999999</td>\n",
       "      <td>2016-03-02</td>\n",
       "      <td>2016-03-04</td>\n",
       "      <td>70000</td>\n",
       "      <td>139.3240</td>\n",
       "      <td>97526.80</td>\n",
       "      <td>March 4th, 2016</td>\n",
       "      <td>0.009175</td>\n",
       "      <td>70000</td>\n",
       "      <td>70000</td>\n",
       "      <td>0.009175</td>\n",
       "    </tr>\n",
       "    <tr>\n",
       "      <th>TESTTESTSEC9999999</th>\n",
       "      <td>TEST</td>\n",
       "      <td>PURCHASE</td>\n",
       "      <td>TESTSEC</td>\n",
       "      <td>9999999</td>\n",
       "      <td>2016-04-15</td>\n",
       "      <td>2016-04-19</td>\n",
       "      <td>50000</td>\n",
       "      <td>143.4480</td>\n",
       "      <td>71724.00</td>\n",
       "      <td>April 19th, 2016</td>\n",
       "      <td>0.007784</td>\n",
       "      <td>50000</td>\n",
       "      <td>120000</td>\n",
       "      <td>0.008595</td>\n",
       "    </tr>\n",
       "    <tr>\n",
       "      <th>TESTTESTSEC9999999</th>\n",
       "      <td>TEST</td>\n",
       "      <td>SALE</td>\n",
       "      <td>TESTSEC</td>\n",
       "      <td>9999999</td>\n",
       "      <td>2016-10-03</td>\n",
       "      <td>2016-10-05</td>\n",
       "      <td>50000</td>\n",
       "      <td>153.7140</td>\n",
       "      <td>70521.17</td>\n",
       "      <td>October 5th, 2016</td>\n",
       "      <td>0.000000</td>\n",
       "      <td>-50000</td>\n",
       "      <td>70000</td>\n",
       "      <td>0.008595</td>\n",
       "    </tr>\n",
       "  </tbody>\n",
       "</table>\n",
       "</div>"
      ],
      "text/plain": [
       "                    Fund Trade Type Security Code    SEDOL Contract Date  \\\n",
       "ID                                                                         \n",
       "TESTTESTSEC9999999  TEST   PURCHASE       TESTSEC  9999999    2013-12-16   \n",
       "TESTTESTSEC9999999  TEST       SALE       TESTSEC  9999999    2014-02-03   \n",
       "TESTTESTSEC9999999  TEST   PURCHASE       TESTSEC  9999999    2014-11-10   \n",
       "TESTTESTSEC9999999  TEST       SALE       TESTSEC  9999999    2015-01-01   \n",
       "TESTTESTSEC9999999  TEST   PURCHASE       TESTSEC  9999999    2015-01-01   \n",
       "TESTTESTSEC9999999  TEST   PURCHASE       TESTSEC  9999999    2015-02-27   \n",
       "TESTTESTSEC9999999  TEST   PURCHASE       TESTSEC  9999999    2015-07-23   \n",
       "TESTTESTSEC9999999  TEST       SALE       TESTSEC  9999999    2015-12-04   \n",
       "TESTTESTSEC9999999  TEST       SALE       TESTSEC  9999999    2016-02-25   \n",
       "TESTTESTSEC9999999  TEST   PURCHASE       TESTSEC  9999999    2016-03-02   \n",
       "TESTTESTSEC9999999  TEST   PURCHASE       TESTSEC  9999999    2016-04-15   \n",
       "TESTTESTSEC9999999  TEST       SALE       TESTSEC  9999999    2016-10-03   \n",
       "\n",
       "                   Settlement Date   Units  Unit Price (Local)  Cost (Local)  \\\n",
       "ID                                                                             \n",
       "TESTTESTSEC9999999      2013-12-19   70000             96.2900      67403.00   \n",
       "TESTTESTSEC9999999      2014-02-06   30000            100.3030      28887.00   \n",
       "TESTTESTSEC9999999      2014-11-12   70000            118.0530      82637.10   \n",
       "TESTTESTSEC9999999      2015-01-01  110000            127.6203     121153.10   \n",
       "TESTTESTSEC9999999      2015-01-01  110000            127.6203     140382.33   \n",
       "TESTTESTSEC9999999      2015-03-03   10000            139.7750      13977.50   \n",
       "TESTTESTSEC9999999      2015-07-27   10000            125.8780      12587.80   \n",
       "TESTTESTSEC9999999      2015-12-08   20000            124.2940      25684.25   \n",
       "TESTTESTSEC9999999      2016-02-29  110000            142.5720     141263.38   \n",
       "TESTTESTSEC9999999      2016-03-04   70000            139.3240      97526.80   \n",
       "TESTTESTSEC9999999      2016-04-19   50000            143.4480      71724.00   \n",
       "TESTTESTSEC9999999      2016-10-05   50000            153.7140      70521.17   \n",
       "\n",
       "                        Evaluation Date  Redemption Yield  Adjusted Units  \\\n",
       "ID                                                                          \n",
       "TESTTESTSEC9999999  December 19th, 2013          0.026790           70000   \n",
       "TESTTESTSEC9999999   February 6th, 2014          0.000000          -30000   \n",
       "TESTTESTSEC9999999  November 12th, 2014          0.017175           70000   \n",
       "TESTTESTSEC9999999    January 1st, 2015          0.000000         -110000   \n",
       "TESTTESTSEC9999999    January 1st, 2015          0.013575          110000   \n",
       "TESTTESTSEC9999999      March 3rd, 2015          0.009418           10000   \n",
       "TESTTESTSEC9999999      July 27th, 2015          0.014054           10000   \n",
       "TESTTESTSEC9999999   December 8th, 2015          0.000000          -20000   \n",
       "TESTTESTSEC9999999  February 29th, 2016          0.000000         -110000   \n",
       "TESTTESTSEC9999999      March 4th, 2016          0.009175           70000   \n",
       "TESTTESTSEC9999999     April 19th, 2016          0.007784           50000   \n",
       "TESTTESTSEC9999999    October 5th, 2016          0.000000          -50000   \n",
       "\n",
       "                    Current Holding  Blended Yield  \n",
       "ID                                                  \n",
       "TESTTESTSEC9999999            70000       0.026790  \n",
       "TESTTESTSEC9999999            40000       0.026790  \n",
       "TESTTESTSEC9999999           110000       0.020671  \n",
       "TESTTESTSEC9999999                0       0.020671  \n",
       "TESTTESTSEC9999999           110000       0.013575  \n",
       "TESTTESTSEC9999999           120000       0.013228  \n",
       "TESTTESTSEC9999999           130000       0.013292  \n",
       "TESTTESTSEC9999999           110000       0.013292  \n",
       "TESTTESTSEC9999999                0       0.013292  \n",
       "TESTTESTSEC9999999            70000       0.009175  \n",
       "TESTTESTSEC9999999           120000       0.008595  \n",
       "TESTTESTSEC9999999            70000       0.008595  "
      ]
     },
     "execution_count": 209,
     "metadata": {},
     "output_type": "execute_result"
    }
   ],
   "source": [
    "#t_df[\"Blended Yield\"] = None\n",
    "t_df"
   ]
  },
  {
   "cell_type": "markdown",
   "metadata": {},
   "source": [
    "And that's the table complete... Next up is extracting the data for the relevant recalculation period and performing the amortisation recalculation."
   ]
  },
  {
   "cell_type": "code",
   "execution_count": null,
   "metadata": {},
   "outputs": [],
   "source": []
  }
 ],
 "metadata": {
  "kernelspec": {
   "display_name": "virtual",
   "language": "python",
   "name": "virtual"
  },
  "language_info": {
   "codemirror_mode": {
    "name": "ipython",
    "version": 3
   },
   "file_extension": ".py",
   "mimetype": "text/x-python",
   "name": "python",
   "nbconvert_exporter": "python",
   "pygments_lexer": "ipython3",
   "version": "3.8.2"
  }
 },
 "nbformat": 4,
 "nbformat_minor": 4
}
