{
 "cells": [
  {
   "cell_type": "markdown",
   "metadata": {},
   "source": [
    "*This notebook will be used for testing out code for an application that can calculate the amortised cost and amortisation P&L for a given purchase / series of trades.*"
   ]
  },
  {
   "cell_type": "markdown",
   "metadata": {},
   "source": [
    "Two basic elements to consider - the Redemption Yield and the Price, or amortised cost at a given point in time."
   ]
  },
  {
   "cell_type": "code",
   "execution_count": 1,
   "metadata": {},
   "outputs": [],
   "source": [
    "import pandas\n",
    "import datetime as dt"
   ]
  },
  {
   "cell_type": "markdown",
   "metadata": {},
   "source": [
    "### Redemption Yield"
   ]
  },
  {
   "cell_type": "markdown",
   "metadata": {},
   "source": [
    "#### Static Data required for calculation:"
   ]
  },
  {
   "cell_type": "markdown",
   "metadata": {},
   "source": [
    "###### Settlement Date (date calculating the yield for)"
   ]
  },
  {
   "cell_type": "code",
   "execution_count": 2,
   "metadata": {},
   "outputs": [],
   "source": [
    "SETT_DATE = dt.datetime(2008, 2, 15)"
   ]
  },
  {
   "cell_type": "markdown",
   "metadata": {},
   "source": [
    "###### Maturity Date"
   ]
  },
  {
   "cell_type": "code",
   "execution_count": 3,
   "metadata": {},
   "outputs": [],
   "source": [
    "MAT_DATE = dt.datetime(2016, 11, 15)"
   ]
  },
  {
   "cell_type": "markdown",
   "metadata": {},
   "source": [
    "###### Coupon Rate"
   ]
  },
  {
   "cell_type": "code",
   "execution_count": 4,
   "metadata": {},
   "outputs": [],
   "source": [
    "COUPON = 5.75 / 100"
   ]
  },
  {
   "cell_type": "markdown",
   "metadata": {},
   "source": [
    "###### Price (current market price, or price of the trade)"
   ]
  },
  {
   "cell_type": "code",
   "execution_count": 5,
   "metadata": {},
   "outputs": [],
   "source": [
    "CURR_PRICE = 95.04287"
   ]
  },
  {
   "cell_type": "markdown",
   "metadata": {},
   "source": [
    "###### Redemption Value (usually 100)"
   ]
  },
  {
   "cell_type": "code",
   "execution_count": 6,
   "metadata": {},
   "outputs": [],
   "source": [
    "RED_VALUE = 100"
   ]
  },
  {
   "cell_type": "markdown",
   "metadata": {},
   "source": [
    "###### Frequency (Annual, Semi-annual, Quarterly or Monthly)"
   ]
  },
  {
   "cell_type": "code",
   "execution_count": 7,
   "metadata": {},
   "outputs": [],
   "source": [
    "C_FREQ = 2"
   ]
  },
  {
   "cell_type": "markdown",
   "metadata": {},
   "source": [
    "###### Accrual Basis"
   ]
  },
  {
   "cell_type": "markdown",
   "metadata": {},
   "source": [
    "0 = 30 / 360, 1 = Actual / Actual, 2 = Actual / 360, 3 = Actual / 365 and 30E / Actual, 4 = 30E / 360"
   ]
  },
  {
   "cell_type": "markdown",
   "metadata": {},
   "source": [
    "Days in month bases are: 1 = Actual, 2 = 30E, 3 = 30"
   ]
  },
  {
   "cell_type": "markdown",
   "metadata": {},
   "source": [
    "Days in year bases are: 1 = 360, 2 = 365, 3 = Actual"
   ]
  },
  {
   "cell_type": "code",
   "execution_count": 8,
   "metadata": {},
   "outputs": [],
   "source": [
    "ACC_BASIS = 0"
   ]
  },
  {
   "cell_type": "markdown",
   "metadata": {},
   "source": [
    "#### Calculated values required:"
   ]
  },
  {
   "cell_type": "markdown",
   "metadata": {},
   "source": [
    "###### Days from Settlement to Next Coupon (DSC)"
   ]
  },
  {
   "cell_type": "code",
   "execution_count": 18,
   "metadata": {},
   "outputs": [
    {
     "name": "stdout",
     "output_type": "stream",
     "text": [
      "90\n"
     ]
    }
   ],
   "source": [
    "if dsca.days > maxd:\n",
    "    dsc = maxd\n",
    "else:\n",
    "    dsc = dsca.days\n",
    "\n",
    "print(dsc)"
   ]
  },
  {
   "cell_type": "markdown",
   "metadata": {},
   "source": [
    "###### Days from Settlement to Redemption Date (DSR)"
   ]
  },
  {
   "cell_type": "code",
   "execution_count": 15,
   "metadata": {},
   "outputs": [
    {
     "name": "stdout",
     "output_type": "stream",
     "text": [
      "3196 days, 0:00:00\n"
     ]
    }
   ],
   "source": [
    "dsr = MAT_DATE - SETT_DATE\n",
    "print(dsr)"
   ]
  },
  {
   "cell_type": "markdown",
   "metadata": {},
   "source": [
    "###### Days in coupon period which settlement date falls in (E)"
   ]
  },
  {
   "cell_type": "code",
   "execution_count": 16,
   "metadata": {},
   "outputs": [
    {
     "data": {
      "text/plain": [
       "180.0"
      ]
     },
     "execution_count": 16,
     "metadata": {},
     "output_type": "execute_result"
    }
   ],
   "source": [
    "if ACC_BASIS == 0 or ACC_BASIS == 4:\n",
    "    e = 360 / C_FREQ\n",
    "elif ACC_BASIS == 2 and C_FREQ == 1:\n",
    "    e = 360\n",
    "elif ncd.days - pcd.days == 366 and ACC_BASIS == 3:\n",
    "    e = 365\n",
    "else:\n",
    "    e = ncd.days - pcd.days\n",
    "\n",
    "e"
   ]
  },
  {
   "cell_type": "markdown",
   "metadata": {},
   "source": [
    "###### Number of coupons payable between settlement and redemption date (N)"
   ]
  },
  {
   "cell_type": "code",
   "execution_count": 20,
   "metadata": {},
   "outputs": [
    {
     "name": "stdout",
     "output_type": "stream",
     "text": [
      "[datetime.datetime(2008, 5, 15, 0, 0), datetime.datetime(2008, 11, 15, 0, 0), datetime.datetime(2009, 5, 15, 0, 0), datetime.datetime(2009, 11, 15, 0, 0), datetime.datetime(2010, 5, 15, 0, 0), datetime.datetime(2010, 11, 15, 0, 0), datetime.datetime(2011, 5, 15, 0, 0), datetime.datetime(2011, 11, 15, 0, 0), datetime.datetime(2012, 5, 15, 0, 0), datetime.datetime(2012, 11, 15, 0, 0), datetime.datetime(2013, 5, 15, 0, 0), datetime.datetime(2013, 11, 15, 0, 0), datetime.datetime(2014, 5, 15, 0, 0), datetime.datetime(2014, 11, 15, 0, 0), datetime.datetime(2015, 5, 15, 0, 0), datetime.datetime(2015, 11, 15, 0, 0), datetime.datetime(2016, 5, 15, 0, 0), datetime.datetime(2016, 11, 15, 0, 0)]\n",
      "18\n"
     ]
    }
   ],
   "source": [
    "# can either use the same rough and ready calculation used in the original Excel file ((mat - sett)/365 * freq)\n",
    "# or, can generate all of the coupon dates out to (& inc.) maturity and count them - i.e. create a list and get the length of it\n",
    "# initialise the list with the next coupon date\n",
    "coupl = [ncd]\n",
    "# set our date variable for generating the list to the next coupon date\n",
    "cdate = ncd\n",
    "# set up separate variable for the year\n",
    "cdatey = ncd.year\n",
    "# while the date variable is less than the maturity date\n",
    "while cdate < MAT_DATE:\n",
    "    # increment it by the month modifier\n",
    "    cdatem = cdate.month + MTH_MOD\n",
    "    # then perform the standard check for month validity and adjust month / year if necessary\n",
    "    if cdatem > 12:\n",
    "        cdatey = cdatey + 1\n",
    "        cdatem = cdatem - 12\n",
    "    # increment the date variable\n",
    "    cdate = cdate.replace(year = cdatey, month = cdatem)\n",
    "    # and write it into the list\n",
    "    coupl.append(cdate)\n",
    "\n",
    "# once the while loop has exited, set 'n' equal to the length of the list, i.e. the number of coupons to maturity\n",
    "n = len(coupl)\n",
    "    \n",
    "print(coupl)\n",
    "print(n)"
   ]
  },
  {
   "cell_type": "markdown",
   "metadata": {},
   "source": [
    "###### Days from start of coupon period to settlement date (A)"
   ]
  },
  {
   "cell_type": "code",
   "execution_count": 19,
   "metadata": {},
   "outputs": [
    {
     "data": {
      "text/plain": [
       "90.0"
      ]
     },
     "execution_count": 19,
     "metadata": {},
     "output_type": "execute_result"
    }
   ],
   "source": [
    "a = e - dsc\n",
    "\n",
    "a"
   ]
  },
  {
   "cell_type": "markdown",
   "metadata": {},
   "source": [
    "#### Also (required for the above calculations):"
   ]
  },
  {
   "cell_type": "markdown",
   "metadata": {},
   "source": [
    "###### Next Coupon Date (NCD)"
   ]
  },
  {
   "cell_type": "markdown",
   "metadata": {},
   "source": [
    "For this, need to work out the next coupon date after the settlement date using the maturity date, frequency and settlement date."
   ]
  },
  {
   "cell_type": "code",
   "execution_count": 9,
   "metadata": {},
   "outputs": [
    {
     "name": "stdout",
     "output_type": "stream",
     "text": [
      "2008-02-15 00:00:00 2008 2 15\n",
      "2016-11-15 00:00:00 11 15\n"
     ]
    }
   ],
   "source": [
    "# split the maturity and settlement dates down into their component parts\n",
    "SETT_YR = int(SETT_DATE.strftime(\"%Y\")) # settlement year\n",
    "SETT_MTH = int(SETT_DATE.strftime(\"%m\")) # settlement month\n",
    "SETT_DAY = int(SETT_DATE.strftime(\"%d\")) # settlement day\n",
    "\n",
    "MAT_MTH = int(MAT_DATE.strftime(\"%m\")) # maturity month\n",
    "MAT_DAY = int(MAT_DATE.strftime(\"%d\")) # maturity day\n",
    "\n",
    "print(SETT_DATE, SETT_YR, SETT_MTH, SETT_DAY)\n",
    "print(MAT_DATE, MAT_MTH, MAT_DAY)"
   ]
  },
  {
   "cell_type": "code",
   "execution_count": 10,
   "metadata": {},
   "outputs": [
    {
     "data": {
      "text/plain": [
       "6"
      ]
     },
     "execution_count": 10,
     "metadata": {},
     "output_type": "execute_result"
    }
   ],
   "source": [
    "MTH_MOD = int(12 / C_FREQ)\n",
    "MTH_MOD"
   ]
  },
  {
   "cell_type": "code",
   "execution_count": 11,
   "metadata": {},
   "outputs": [
    {
     "name": "stdout",
     "output_type": "stream",
     "text": [
      "2008-01-15 00:00:00\n"
     ]
    }
   ],
   "source": [
    "test = SETT_DATE.replace(month = SETT_DATE.month-1)\n",
    "print(test)"
   ]
  },
  {
   "cell_type": "code",
   "execution_count": 12,
   "metadata": {},
   "outputs": [
    {
     "name": "stdout",
     "output_type": "stream",
     "text": [
      "2\n",
      "2007-11-15 00:00:00 2008-05-15 00:00:00\n"
     ]
    }
   ],
   "source": [
    "# set the next coupon date = settlement date, but with the day replaced by the day of the maturity date\n",
    "ncd = SETT_DATE.replace(month = MAT_MTH, day = MAT_DAY)\n",
    "# check if the ncd is greater than the settlement date (which it needs to be)\n",
    "if ncd > SETT_DATE:\n",
    "    # check if settlement month - MTH_MOD < 1\n",
    "    pcdm = MAT_MTH - MTH_MOD\n",
    "    pcdy = SETT_YR\n",
    "    if pcdm < 1:\n",
    "        # if it is, subtract 1 from the year and add 12 to the month\n",
    "        pcdy = pcdy - 1\n",
    "        pcdm = pcdm + 12\n",
    "    # if it is, try the previous coupon date as, effectively, the ncd with the month adjusted by the MTH_MOD\n",
    "    pcd = SETT_DATE.replace(year = pcdy, month = pcdm, day = MAT_DAY)\n",
    "    # check if the pcd is less than the settlement date (which it needs to be)\n",
    "    if pcd < SETT_DATE:\n",
    "        # if it is, then \n",
    "        print(\"1\")\n",
    "        print(pcd, ncd)\n",
    "    else:\n",
    "        # if the pcd is not less than settlement date, then:\n",
    "        while pcd > SETT_DATE:\n",
    "            pcdm = pcdm - MTH_MOD\n",
    "            if pcdm < 1:\n",
    "                pcdy = pcdy - 1\n",
    "                pcdm = pcdm + 12\n",
    "            # iterate through, changing the month in the pcd by the MTH_MOD until it is\n",
    "            pcd = pcd.replace(year = pcdy, month = pcdm)\n",
    "        # once pcd is < settlement date, then if the pcd month + MTH_MOD is > 12 \n",
    "        if pcd.month + MTH_MOD > 12:\n",
    "            # adjust the year and month so they fit\n",
    "            ncdmt = pcd.month + MTH_MOD - 12\n",
    "            ncdyt = pcd.year + 1\n",
    "            # and create a test date to compare to the ncd derived earlier\n",
    "            ncdt = pcd.replace(year = ncdyt, month = ncdmt)\n",
    "        else:\n",
    "            # otherwise, just add the MTH_MOD on to the pcd month to create the test ncd date\n",
    "            ncdt = pcd.replace(month = pcd.month + MTH_MOD)\n",
    "        # if the pcd + MTH_MOD does not equal the ncd\n",
    "        if ncdt != ncd:\n",
    "            # change it so that it does\n",
    "            ncd = ncdt\n",
    "            # and return both values\n",
    "            print(\"2\")\n",
    "            print(pcd, ncd)\n",
    "        else:\n",
    "            # otherwise return both dates\n",
    "            print(\"3\")\n",
    "            print(pcd, ncd)\n",
    "# if ncd is not greater than the settlement date\n",
    "else:\n",
    "    # check if the ncd month + MTH_MOD > 12\n",
    "    ncdm = ncd.month + MTH_MOD\n",
    "    ncdy = ncd.year\n",
    "    if ncdm > 12:\n",
    "        # if it is, add 1 to the year and subtract 12 from the month\n",
    "        ncdy = ncdy + 1\n",
    "        ncdm = ncdm - 12\n",
    "    # then while it is still lower than the settlement date\n",
    "    while ncd < SETT_DATE:\n",
    "        ncdm = ncdm + MTH_MOD\n",
    "        if ncdm > 12:\n",
    "            ncdy = ncdy + 1\n",
    "            ncdm = ncdm - 12\n",
    "        # do the reverse of what was done with the pcd above, and add the MTH_MOD until it is\n",
    "        ncd = ncd.replace(year = ncdy, month = ncdm)\n",
    "    # once the ncd is > settlement date, check if the ncd month - MTH_MOD is > 0\n",
    "    if ncd.month - MTH_MOD < 12:\n",
    "        # adjust the month and year so they are in the acceptable ranges\n",
    "        pcdm = ncd.month - MTH_MOD + 12\n",
    "        pcdy = ncd.year - 1\n",
    "        pcd = ncd.replace(year = pcdy, month = pcdm)\n",
    "        # and return both values\n",
    "        print(\"4\")\n",
    "        print(pcd, ncd)\n",
    "    else:\n",
    "        pcd = ncd.replace(month = ncd.month - MTH_MOD)\n",
    "        # and return both dates\n",
    "        print(\"5\")\n",
    "        print(pcd, ncd)\n",
    "\n",
    "# expected values are pcd=15/11/07 and ncd=15/05/08"
   ]
  },
  {
   "cell_type": "markdown",
   "metadata": {},
   "source": [
    "###### Previous Coupon Date (PCD)"
   ]
  },
  {
   "cell_type": "markdown",
   "metadata": {},
   "source": [
    "This has been covered in the coding above"
   ]
  },
  {
   "cell_type": "markdown",
   "metadata": {},
   "source": [
    "###### Actual days in period (days from settlement to next coupon)"
   ]
  },
  {
   "cell_type": "code",
   "execution_count": 13,
   "metadata": {},
   "outputs": [
    {
     "name": "stdout",
     "output_type": "stream",
     "text": [
      "90 days, 0:00:00\n",
      "90\n"
     ]
    }
   ],
   "source": [
    "dsca = ncd - SETT_DATE\n",
    "print(dsca)\n",
    "# use the .days expression to just return the number of days of the timedelta as an integer\n",
    "print(dsca.days)"
   ]
  },
  {
   "cell_type": "markdown",
   "metadata": {},
   "source": [
    "###### Maximum allowable days in period (for 360 / 365 day year bases)"
   ]
  },
  {
   "cell_type": "code",
   "execution_count": 14,
   "metadata": {},
   "outputs": [
    {
     "name": "stdout",
     "output_type": "stream",
     "text": [
      "180\n"
     ]
    }
   ],
   "source": [
    "if ACC_BASIS == 0 or ACC_BASIS == 4:\n",
    "    maxd = int(360 / C_FREQ)\n",
    "elif ACC_BASIS == 2 and C_FREQ == 1:\n",
    "    maxd = 360\n",
    "else:\n",
    "    maxd = dsca\n",
    "print(maxd)"
   ]
  },
  {
   "cell_type": "markdown",
   "metadata": {},
   "source": [
    "#### Next up is the actual calculation of the yield using the price of the bond at settlement date (purchase or at valuation point)"
   ]
  },
  {
   "cell_type": "markdown",
   "metadata": {},
   "source": [
    "##### Step 1 - calculate the yield based on a single coupon period to redemption date (attempt 0)"
   ]
  },
  {
   "cell_type": "code",
   "execution_count": 80,
   "metadata": {},
   "outputs": [
    {
     "name": "stdout",
     "output_type": "stream",
     "text": [
      "0.7465728472088515\n",
      "[0.0074657284720885154]\n"
     ]
    }
   ],
   "source": [
    "# set up the calculations for the three parts to the formula\n",
    "parti = (RED_VALUE / 100 + COUPON / C_FREQ) - (CURR_PRICE / 100 + (a / e * COUPON / C_FREQ))\n",
    "partii = CURR_PRICE / 100 + (a / e * COUPON / C_FREQ)\n",
    "partiii = C_FREQ * e / dsr.days\n",
    "\n",
    "# set up a list to hold all of the guesses, then they can be called via index number when needed\n",
    "eyl = []\n",
    "\n",
    "# if the denominator in the overall formula (partii) is zero, make the total zero, otherwise return the final result\n",
    "if partii != 0:\n",
    "    ey = parti / partii * partiii\n",
    "    # append the calculated yield to the end of the list (which here is the start of it)\n",
    "    eyl.append(ey)\n",
    "else:\n",
    "    ey = 0\n",
    "    eyl.append(ey)\n",
    "\n",
    "print(eyl[0]*100)\n",
    "print(eyl)"
   ]
  },
  {
   "cell_type": "markdown",
   "metadata": {},
   "source": [
    "##### Step 2 - using a default guess (10%), and the yield calculated above, try to recalcuate the price "
   ]
  },
  {
   "cell_type": "markdown",
   "metadata": {},
   "source": [
    "This is where the iterative process starts, and it needs to continue until the 'guessed' yield correctly recalculates the price of the bond at SETT_DATE (trade settlement date or valuation date)"
   ]
  },
  {
   "cell_type": "code",
   "execution_count": 81,
   "metadata": {},
   "outputs": [
    {
     "name": "stdout",
     "output_type": "stream",
     "text": [
      "[0.0074657284720885154, 0.1]\n"
     ]
    }
   ],
   "source": [
    "# append an initial 'guess' to the yield list of an arbitrary 10%\n",
    "eyl.append(0.1)\n",
    "print(eyl)"
   ]
  },
  {
   "cell_type": "code",
   "execution_count": 82,
   "metadata": {},
   "outputs": [
    {
     "name": "stdout",
     "output_type": "stream",
     "text": [
      "Attempt Number:  1\n",
      "Calculated Price:  142.30295785761496\n",
      "Price Movement:  -47.26008785761496\n",
      "Prior Attempt Price Movement:  0\n",
      "Yield Movement:  0.0925342715279115\n",
      "Current Yield Used:  0.0074657284720885154\n",
      "Movement in Price Delta:  0.0\n",
      "\n",
      "Attempt Number:  2\n",
      "Calculated Price:  75.57820059809981\n",
      "Price Movement:  19.46466940190018\n",
      "Prior Attempt Price Movement:  -47.26008785761496\n",
      "Yield Movement:  -0.026993713841943018\n",
      "Current Yield Used:  0.1\n",
      "Movement in Price Delta:  -66.72475725951514\n",
      "\n",
      "Attempt Number:  3\n",
      "Calculated Price:  90.08872529062276\n",
      "Price Movement:  4.954144709377232\n",
      "Prior Attempt Price Movement:  19.46466940190018\n",
      "Yield Movement:  -0.009216121914972134\n",
      "Current Yield Used:  0.07300628615805699\n",
      "Movement in Price Delta:  14.51052469252295\n",
      "\n",
      "Attempt Number:  4\n",
      "Calculated Price:  95.82028533239648\n",
      "Price Movement:  -0.7774153323964867\n",
      "Prior Attempt Price Movement:  4.954144709377232\n",
      "Yield Movement:  0.0012500531146346222\n",
      "Current Yield Used:  0.06379016424308485\n",
      "Movement in Price Delta:  5.731560041773719\n",
      "\n",
      "Attempt Number:  5\n",
      "Calculated Price:  95.01716463072123\n",
      "Price Movement:  0.025705369278767876\n",
      "Prior Attempt Price Movement:  -0.7774153323964867\n",
      "Yield Movement:  -4.0010271012469456e-05\n",
      "Current Yield Used:  0.06504021735771948\n",
      "Movement in Price Delta:  -0.8031207016752546\n",
      "\n",
      "Attempt Number:  6\n",
      "Calculated Price:  95.04274199315103\n",
      "Price Movement:  0.00012800684896774328\n",
      "Prior Attempt Price Movement:  0.025705369278767876\n",
      "Yield Movement:  -2.002391267935666e-07\n",
      "Current Yield Used:  0.06500020708670701\n",
      "Movement in Price Delta:  0.025577362429800132\n",
      "\n",
      "Attempt Number:  7\n",
      "Calculated Price:  95.04287002121092\n",
      "Price Movement:  -2.1210922795944498e-08\n",
      "Prior Attempt Price Movement:  0.00012800684896774328\n",
      "Yield Movement:  3.3174421543158417e-11\n",
      "Current Yield Used:  0.06500000684758021\n",
      "Movement in Price Delta:  0.00012802805989053923\n",
      "\n",
      "Attempt Number:  8\n",
      "Calculated Price:  95.04287000000002\n",
      "Price Movement:  -2.842170943040401e-14\n",
      "Prior Attempt Price Movement:  -2.1210922795944498e-08\n",
      "Yield Movement:  4.163336342344337e-17\n",
      "Current Yield Used:  0.06500000688075463\n",
      "Movement in Price Delta:  -2.1210894374235068e-08\n",
      "\n",
      "Redemption Yield:  6.500000688075468 %\n"
     ]
    }
   ],
   "source": [
    "# set up the attempt counter, prior period price delta and calculated price as zero\n",
    "att = 0\n",
    "pp_delta = 0\n",
    "calc_p = 0\n",
    "\n",
    "while calc_p != CURR_PRICE:\n",
    "\n",
    "    # set the number of attempts to 1\n",
    "    att = att + 1\n",
    "    # calculate the first part of the price\n",
    "    part1 = RED_VALUE / ((1 + eyl[att - 1] / C_FREQ) ** (n - 1 + dsc / e))\n",
    "    # set the second part of the price to zero, this will be calculated shortly\n",
    "    part2 = 0\n",
    "    #calculate the third part of the price\n",
    "    part3 = -100 * (COUPON / C_FREQ) * (a / e)\n",
    "\n",
    "    # set the current coupon to 1\n",
    "    cpn = 1\n",
    "    # until the iterations hit the number of coupons to maturity\n",
    "    while cpn <= n:\n",
    "        # perform the calculation\n",
    "        pt2 = 100 * (COUPON / C_FREQ) / ((1 + eyl[att - 1] / C_FREQ) ** (cpn - 1 + dsc / e))\n",
    "        # and add it to the running total\n",
    "        part2 = part2 + pt2\n",
    "        # then increment the coupon number and do it again\n",
    "        cpn = cpn + 1\n",
    "\n",
    "    #print(part1)\n",
    "    #print(part2)\n",
    "    #print(part3)\n",
    "\n",
    "    # derive the calculated price based on the yield 'guess'\n",
    "    calc_p = part1 + part2 + part3\n",
    "    # calculate the difference between the actual price and the calculated price\n",
    "    p_delta = CURR_PRICE - calc_p\n",
    "    # calculate the movement in the price difference from last attempt to current attempt\n",
    "    if att > 1:\n",
    "        pd_move = pp_delta - p_delta\n",
    "        # if the movement in the price delta is zero, exit the loop as this will otherwise cause an error\n",
    "        # plus, it means that the calculation is there albeit the price may not match at the nth decimal place\n",
    "        if pd_move == 0:\n",
    "            break\n",
    "        # also calculate the movement in yield divided by the movement in price difference\n",
    "        ydelta_pdmove = y_delta / pd_move\n",
    "        # calculate the yield to use in the next attempt\n",
    "        y_next = eyl[att-1] + (p_delta * ydelta_pdmove)\n",
    "        # add it to the yield list\n",
    "        eyl.append(y_next)\n",
    "\n",
    "    # calculate the difference between the current yield attempt and the previous one\n",
    "    y_delta = eyl[att] - eyl[att-1]\n",
    "\n",
    "    print(\"Attempt Number: \", att)\n",
    "    print(\"Calculated Price: \", calc_p)\n",
    "    print(\"Price Movement: \", p_delta)\n",
    "    print(\"Prior Attempt Price Movement: \", pp_delta)\n",
    "    print(\"Yield Movement: \", y_delta)\n",
    "    print(\"Current Yield Used: \", eyl[att-1])\n",
    "    print(\"Movement in Price Delta: \", pd_move)\n",
    "    print(\"\")\n",
    "\n",
    "    pp_delta = p_delta\n",
    "    \n",
    "print(\"Redemption Yield: \", eyl[att-1] * 100, \"%\")\n"
   ]
  },
  {
   "cell_type": "markdown",
   "metadata": {},
   "source": [
    "Yield calculation is now complete! Now onto the Price calculation..."
   ]
  },
  {
   "cell_type": "markdown",
   "metadata": {},
   "source": [
    "### Price"
   ]
  },
  {
   "cell_type": "markdown",
   "metadata": {},
   "source": [
    "Mercifully, there is a lot of overlap between the two calculations, with this reusing the DSC, E, N and A values calculated for the Yield"
   ]
  },
  {
   "cell_type": "code",
   "execution_count": 83,
   "metadata": {},
   "outputs": [],
   "source": [
    "# for the purposes of testing, let's replicate the price of the example stock above. This means we will need:\n",
    "YIELD = 6.5 / 100"
   ]
  },
  {
   "cell_type": "code",
   "execution_count": 84,
   "metadata": {},
   "outputs": [
    {
     "name": "stdout",
     "output_type": "stream",
     "text": [
      "DSC:  90\n",
      "E:  180.0\n",
      "N:  18\n",
      "A:  90.0\n"
     ]
    }
   ],
   "source": [
    "# as a reminder, print out the values of DSC, E, N and A for use in the following formulae\n",
    "print(\"DSC: \", dsc)\n",
    "print(\"E: \", e)\n",
    "print(\"N: \", n)\n",
    "print(\"A: \", a)"
   ]
  },
  {
   "cell_type": "code",
   "execution_count": 87,
   "metadata": {},
   "outputs": [
    {
     "name": "stdout",
     "output_type": "stream",
     "text": [
      "Part 1:  57.137856533503786\n",
      "Part 2:  39.34251786588826\n",
      "Part 3:  -1.4375\n",
      "\n",
      "Calculated Price:  95.04287439939205\n"
     ]
    }
   ],
   "source": [
    "# set up the calculations for the three parts to the formula\n",
    "part1_p = RED_VALUE / (1 + YIELD / C_FREQ) ** ((n - 1) + dsc / e)\n",
    "\n",
    "part2_p = 0\n",
    "# set the current coupon to 1\n",
    "cp = 1\n",
    "# until the iterations hit the number of coupons to maturity\n",
    "while cp <= n:\n",
    "    # perform the calculation\n",
    "    pt2_p = 100 * (COUPON / C_FREQ) / ((1 + YIELD / C_FREQ) ** (cp - 1 + dsc / e))\n",
    "    # and add it to the running total\n",
    "    part2_p = part2_p + pt2_p\n",
    "    # then increment the coupon number and do it again\n",
    "    cp = cp + 1\n",
    "\n",
    "part3_p = -100 * (COUPON / C_FREQ) * (a / e)\n",
    "calc_p = part1_p + part2_p + part3_p\n",
    "\n",
    "print(\"Part 1: \", part1_p)\n",
    "print(\"Part 2: \", part2_p)\n",
    "print(\"Part 3: \", part3_p)\n",
    "print(\"\")\n",
    "print(\"Calculated Price: \", calc_p)"
   ]
  },
  {
   "cell_type": "markdown",
   "metadata": {},
   "source": [
    "Of course, it's not always that simple. If the settlement date falls within the final coupon period (where N = 1), then a different formula has to be used"
   ]
  },
  {
   "cell_type": "code",
   "execution_count": 88,
   "metadata": {},
   "outputs": [],
   "source": [
    "# set up the calculations for the four parts to the formula\n",
    "parta_p = 1 / (1 + (YIELD / C_FREQ) * (n - 1 + (dsc / e)))\n",
    "partb_p = parta_p * RED_VALUE\n",
    "partc_p = 100 * (COUPON / C_FREQ) * parta_p\n",
    "partd_p = -100 * (COUPON / C_FREQ) * (a / e)\n",
    "\n",
    "calc_p_lc = parta_p + partb_p + partc_p + partd_p"
   ]
  },
  {
   "cell_type": "markdown",
   "metadata": {},
   "source": [
    "I think here seems like a good point to leave the exploration and to now try and put all of the above into either VS Code or PyCharm and to work on the structure of it, breaking it down into classes and functions and eliminating any unnecessary repetition."
   ]
  },
  {
   "cell_type": "code",
   "execution_count": null,
   "metadata": {},
   "outputs": [],
   "source": []
  }
 ],
 "metadata": {
  "kernelspec": {
   "display_name": "Python 3",
   "language": "python",
   "name": "python3"
  },
  "language_info": {
   "codemirror_mode": {
    "name": "ipython",
    "version": 3
   },
   "file_extension": ".py",
   "mimetype": "text/x-python",
   "name": "python",
   "nbconvert_exporter": "python",
   "pygments_lexer": "ipython3",
   "version": "3.7.7"
  }
 },
 "nbformat": 4,
 "nbformat_minor": 4
}
